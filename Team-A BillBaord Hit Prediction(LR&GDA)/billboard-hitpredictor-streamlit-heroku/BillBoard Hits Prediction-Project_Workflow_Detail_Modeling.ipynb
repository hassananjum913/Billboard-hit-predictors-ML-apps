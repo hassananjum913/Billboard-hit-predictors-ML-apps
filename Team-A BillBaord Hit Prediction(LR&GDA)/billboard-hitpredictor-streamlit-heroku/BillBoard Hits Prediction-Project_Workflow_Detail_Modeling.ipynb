{
 "cells": [
  {
   "cell_type": "code",
   "execution_count": 550,
   "metadata": {},
   "outputs": [],
   "source": [
    "import numpy as np\n",
    "import pandas as pd\n",
    "import matplotlib.pyplot as plt\n",
    "import seaborn as sns\n",
    "\n",
    "from IPython.display import IFrame\n",
    "\n",
    "import warnings\n",
    "warnings.filterwarnings('ignore')\n",
    "\n",
    "from sklearn.preprocessing import StandardScaler\n",
    "\n",
    "\n",
    "pd.options.plotting.backend = 'matplotlib'\n",
    "\n",
    "#pd.options.plotting.backend = \"plotly\"\n",
    "\n",
    "from sklearn.model_selection import train_test_split\n",
    "\n",
    "import scipy.stats as stats\n",
    "\n",
    "from statsmodels.stats import weightstats as stests\n",
    "\n",
    "from sklearn.feature_selection import RFE"
   ]
  },
  {
   "cell_type": "code",
   "execution_count": 551,
   "metadata": {},
   "outputs": [],
   "source": [
    "df = pd.read_csv('bb_msd_merged.csv',index_col=0)"
   ]
  },
  {
   "cell_type": "code",
   "execution_count": 552,
   "metadata": {},
   "outputs": [
    {
     "data": {
      "text/html": [
       "<div>\n",
       "<style scoped>\n",
       "    .dataframe tbody tr th:only-of-type {\n",
       "        vertical-align: middle;\n",
       "    }\n",
       "\n",
       "    .dataframe tbody tr th {\n",
       "        vertical-align: top;\n",
       "    }\n",
       "\n",
       "    .dataframe thead th {\n",
       "        text-align: right;\n",
       "    }\n",
       "</style>\n",
       "<table border=\"1\" class=\"dataframe\">\n",
       "  <thead>\n",
       "    <tr style=\"text-align: right;\">\n",
       "      <th></th>\n",
       "      <th>Track</th>\n",
       "      <th>Artist</th>\n",
       "      <th>danceability</th>\n",
       "      <th>energy</th>\n",
       "      <th>key</th>\n",
       "      <th>mode</th>\n",
       "      <th>speechiness</th>\n",
       "      <th>acousticness</th>\n",
       "      <th>instrumentalness</th>\n",
       "      <th>liveness</th>\n",
       "      <th>valence</th>\n",
       "      <th>tempo</th>\n",
       "      <th>duration_ms</th>\n",
       "      <th>loudness</th>\n",
       "      <th>is_hit</th>\n",
       "    </tr>\n",
       "    <tr>\n",
       "      <th>SpotifyID</th>\n",
       "      <th></th>\n",
       "      <th></th>\n",
       "      <th></th>\n",
       "      <th></th>\n",
       "      <th></th>\n",
       "      <th></th>\n",
       "      <th></th>\n",
       "      <th></th>\n",
       "      <th></th>\n",
       "      <th></th>\n",
       "      <th></th>\n",
       "      <th></th>\n",
       "      <th></th>\n",
       "      <th></th>\n",
       "      <th></th>\n",
       "    </tr>\n",
       "  </thead>\n",
       "  <tbody>\n",
       "    <tr>\n",
       "      <th>58spuRyMUsjKHQHEGwLC99</th>\n",
       "      <td>80s Mercedes</td>\n",
       "      <td>Maren Morris</td>\n",
       "      <td>0.485</td>\n",
       "      <td>0.834</td>\n",
       "      <td>9</td>\n",
       "      <td>1</td>\n",
       "      <td>0.0715</td>\n",
       "      <td>0.0665</td>\n",
       "      <td>0.000</td>\n",
       "      <td>0.2800</td>\n",
       "      <td>0.659</td>\n",
       "      <td>90.933</td>\n",
       "      <td>211767</td>\n",
       "      <td>-5.413</td>\n",
       "      <td>1</td>\n",
       "    </tr>\n",
       "    <tr>\n",
       "      <th>6LdR1UYMIqsaaUt0hiWVBN</th>\n",
       "      <td>Dio Nisia</td>\n",
       "      <td>Giorgos Sabanis</td>\n",
       "      <td>0.691</td>\n",
       "      <td>0.762</td>\n",
       "      <td>2</td>\n",
       "      <td>1</td>\n",
       "      <td>0.0285</td>\n",
       "      <td>0.0808</td>\n",
       "      <td>0.000</td>\n",
       "      <td>0.1340</td>\n",
       "      <td>0.529</td>\n",
       "      <td>116.024</td>\n",
       "      <td>248427</td>\n",
       "      <td>-7.321</td>\n",
       "      <td>0</td>\n",
       "    </tr>\n",
       "    <tr>\n",
       "      <th>3gQRcZZeBCMGANY1wT2x6A</th>\n",
       "      <td>Hooked On A Feeling (Ooga-Chaka)</td>\n",
       "      <td>Baby Talk</td>\n",
       "      <td>0.613</td>\n",
       "      <td>0.678</td>\n",
       "      <td>8</td>\n",
       "      <td>1</td>\n",
       "      <td>0.1060</td>\n",
       "      <td>0.5420</td>\n",
       "      <td>0.000</td>\n",
       "      <td>0.0391</td>\n",
       "      <td>0.911</td>\n",
       "      <td>118.629</td>\n",
       "      <td>181107</td>\n",
       "      <td>-7.850</td>\n",
       "      <td>1</td>\n",
       "    </tr>\n",
       "    <tr>\n",
       "      <th>54p39OJ544KF6iFeCzbVjs</th>\n",
       "      <td>Tennessee Rain</td>\n",
       "      <td>Addison Agen</td>\n",
       "      <td>0.553</td>\n",
       "      <td>0.232</td>\n",
       "      <td>9</td>\n",
       "      <td>1</td>\n",
       "      <td>0.0326</td>\n",
       "      <td>0.9070</td>\n",
       "      <td>0.000</td>\n",
       "      <td>0.1230</td>\n",
       "      <td>0.274</td>\n",
       "      <td>137.800</td>\n",
       "      <td>210986</td>\n",
       "      <td>-6.929</td>\n",
       "      <td>1</td>\n",
       "    </tr>\n",
       "    <tr>\n",
       "      <th>5JxJQxSxpK3B7ShOV2bz9f</th>\n",
       "      <td>French Touch</td>\n",
       "      <td>Richard Galliano</td>\n",
       "      <td>0.647</td>\n",
       "      <td>0.567</td>\n",
       "      <td>4</td>\n",
       "      <td>0</td>\n",
       "      <td>0.0388</td>\n",
       "      <td>0.4070</td>\n",
       "      <td>0.441</td>\n",
       "      <td>0.1510</td>\n",
       "      <td>0.674</td>\n",
       "      <td>113.256</td>\n",
       "      <td>210720</td>\n",
       "      <td>-10.191</td>\n",
       "      <td>0</td>\n",
       "    </tr>\n",
       "  </tbody>\n",
       "</table>\n",
       "</div>"
      ],
      "text/plain": [
       "                                                   Track            Artist  \\\n",
       "SpotifyID                                                                    \n",
       "58spuRyMUsjKHQHEGwLC99                      80s Mercedes      Maren Morris   \n",
       "6LdR1UYMIqsaaUt0hiWVBN                         Dio Nisia   Giorgos Sabanis   \n",
       "3gQRcZZeBCMGANY1wT2x6A  Hooked On A Feeling (Ooga-Chaka)         Baby Talk   \n",
       "54p39OJ544KF6iFeCzbVjs                    Tennessee Rain      Addison Agen   \n",
       "5JxJQxSxpK3B7ShOV2bz9f                      French Touch  Richard Galliano   \n",
       "\n",
       "                        danceability  energy  key  mode  speechiness  \\\n",
       "SpotifyID                                                              \n",
       "58spuRyMUsjKHQHEGwLC99         0.485   0.834    9     1       0.0715   \n",
       "6LdR1UYMIqsaaUt0hiWVBN         0.691   0.762    2     1       0.0285   \n",
       "3gQRcZZeBCMGANY1wT2x6A         0.613   0.678    8     1       0.1060   \n",
       "54p39OJ544KF6iFeCzbVjs         0.553   0.232    9     1       0.0326   \n",
       "5JxJQxSxpK3B7ShOV2bz9f         0.647   0.567    4     0       0.0388   \n",
       "\n",
       "                        acousticness  instrumentalness  liveness  valence  \\\n",
       "SpotifyID                                                                   \n",
       "58spuRyMUsjKHQHEGwLC99        0.0665             0.000    0.2800    0.659   \n",
       "6LdR1UYMIqsaaUt0hiWVBN        0.0808             0.000    0.1340    0.529   \n",
       "3gQRcZZeBCMGANY1wT2x6A        0.5420             0.000    0.0391    0.911   \n",
       "54p39OJ544KF6iFeCzbVjs        0.9070             0.000    0.1230    0.274   \n",
       "5JxJQxSxpK3B7ShOV2bz9f        0.4070             0.441    0.1510    0.674   \n",
       "\n",
       "                          tempo  duration_ms  loudness  is_hit  \n",
       "SpotifyID                                                       \n",
       "58spuRyMUsjKHQHEGwLC99   90.933       211767    -5.413       1  \n",
       "6LdR1UYMIqsaaUt0hiWVBN  116.024       248427    -7.321       0  \n",
       "3gQRcZZeBCMGANY1wT2x6A  118.629       181107    -7.850       1  \n",
       "54p39OJ544KF6iFeCzbVjs  137.800       210986    -6.929       1  \n",
       "5JxJQxSxpK3B7ShOV2bz9f  113.256       210720   -10.191       0  "
      ]
     },
     "execution_count": 552,
     "metadata": {},
     "output_type": "execute_result"
    }
   ],
   "source": [
    "df.head()"
   ]
  },
  {
   "cell_type": "code",
   "execution_count": 553,
   "metadata": {},
   "outputs": [
    {
     "name": "stdout",
     "output_type": "stream",
     "text": [
      "<class 'pandas.core.frame.DataFrame'>\n",
      "Index: 14530 entries, 58spuRyMUsjKHQHEGwLC99 to 0WC05B34BCl3ue6NV0IdU7\n",
      "Data columns (total 15 columns):\n",
      " #   Column            Non-Null Count  Dtype  \n",
      "---  ------            --------------  -----  \n",
      " 0   Track             14530 non-null  object \n",
      " 1   Artist            14530 non-null  object \n",
      " 2   danceability      14530 non-null  float64\n",
      " 3   energy            14530 non-null  float64\n",
      " 4   key               14530 non-null  int64  \n",
      " 5   mode              14530 non-null  int64  \n",
      " 6   speechiness       14530 non-null  float64\n",
      " 7   acousticness      14530 non-null  float64\n",
      " 8   instrumentalness  14530 non-null  float64\n",
      " 9   liveness          14530 non-null  float64\n",
      " 10  valence           14530 non-null  float64\n",
      " 11  tempo             14530 non-null  float64\n",
      " 12  duration_ms       14530 non-null  int64  \n",
      " 13  loudness          14530 non-null  float64\n",
      " 14  is_hit            14530 non-null  int64  \n",
      "dtypes: float64(9), int64(4), object(2)\n",
      "memory usage: 1.8+ MB\n"
     ]
    }
   ],
   "source": [
    "df.info()"
   ]
  },
  {
   "cell_type": "code",
   "execution_count": 554,
   "metadata": {},
   "outputs": [],
   "source": [
    "df_usable = df.drop(['Track','Artist'],axis=1)"
   ]
  },
  {
   "cell_type": "code",
   "execution_count": 555,
   "metadata": {},
   "outputs": [
    {
     "data": {
      "text/html": [
       "<div>\n",
       "<style scoped>\n",
       "    .dataframe tbody tr th:only-of-type {\n",
       "        vertical-align: middle;\n",
       "    }\n",
       "\n",
       "    .dataframe tbody tr th {\n",
       "        vertical-align: top;\n",
       "    }\n",
       "\n",
       "    .dataframe thead th {\n",
       "        text-align: right;\n",
       "    }\n",
       "</style>\n",
       "<table border=\"1\" class=\"dataframe\">\n",
       "  <thead>\n",
       "    <tr style=\"text-align: right;\">\n",
       "      <th></th>\n",
       "      <th>danceability</th>\n",
       "      <th>energy</th>\n",
       "      <th>key</th>\n",
       "      <th>mode</th>\n",
       "      <th>speechiness</th>\n",
       "      <th>acousticness</th>\n",
       "      <th>instrumentalness</th>\n",
       "      <th>liveness</th>\n",
       "      <th>valence</th>\n",
       "      <th>tempo</th>\n",
       "      <th>duration_ms</th>\n",
       "      <th>loudness</th>\n",
       "      <th>is_hit</th>\n",
       "    </tr>\n",
       "    <tr>\n",
       "      <th>SpotifyID</th>\n",
       "      <th></th>\n",
       "      <th></th>\n",
       "      <th></th>\n",
       "      <th></th>\n",
       "      <th></th>\n",
       "      <th></th>\n",
       "      <th></th>\n",
       "      <th></th>\n",
       "      <th></th>\n",
       "      <th></th>\n",
       "      <th></th>\n",
       "      <th></th>\n",
       "      <th></th>\n",
       "    </tr>\n",
       "  </thead>\n",
       "  <tbody>\n",
       "    <tr>\n",
       "      <th>0QV16pno66L6K3fn4W13b7</th>\n",
       "      <td>0.788</td>\n",
       "      <td>0.6890</td>\n",
       "      <td>8</td>\n",
       "      <td>1</td>\n",
       "      <td>0.1300</td>\n",
       "      <td>0.011200</td>\n",
       "      <td>0.000000</td>\n",
       "      <td>0.2200</td>\n",
       "      <td>0.6810</td>\n",
       "      <td>136.045</td>\n",
       "      <td>189230</td>\n",
       "      <td>-7.211</td>\n",
       "      <td>1</td>\n",
       "    </tr>\n",
       "    <tr>\n",
       "      <th>2iVtt0mYIL26IGAgRkhHT5</th>\n",
       "      <td>0.618</td>\n",
       "      <td>0.7170</td>\n",
       "      <td>9</td>\n",
       "      <td>1</td>\n",
       "      <td>0.0300</td>\n",
       "      <td>0.016400</td>\n",
       "      <td>0.000339</td>\n",
       "      <td>0.0594</td>\n",
       "      <td>0.7610</td>\n",
       "      <td>114.802</td>\n",
       "      <td>213333</td>\n",
       "      <td>-12.107</td>\n",
       "      <td>1</td>\n",
       "    </tr>\n",
       "    <tr>\n",
       "      <th>5lN5aVYeTdA1pZ1JScRtWn</th>\n",
       "      <td>0.374</td>\n",
       "      <td>0.7990</td>\n",
       "      <td>0</td>\n",
       "      <td>1</td>\n",
       "      <td>0.0426</td>\n",
       "      <td>0.752000</td>\n",
       "      <td>0.008350</td>\n",
       "      <td>0.1680</td>\n",
       "      <td>0.8020</td>\n",
       "      <td>161.922</td>\n",
       "      <td>182013</td>\n",
       "      <td>-7.083</td>\n",
       "      <td>0</td>\n",
       "    </tr>\n",
       "    <tr>\n",
       "      <th>3hJQ0Bzblzx7JY5rKPvap0</th>\n",
       "      <td>0.789</td>\n",
       "      <td>0.6980</td>\n",
       "      <td>0</td>\n",
       "      <td>1</td>\n",
       "      <td>0.0467</td>\n",
       "      <td>0.023600</td>\n",
       "      <td>0.000000</td>\n",
       "      <td>0.0959</td>\n",
       "      <td>0.4160</td>\n",
       "      <td>123.849</td>\n",
       "      <td>198907</td>\n",
       "      <td>-5.837</td>\n",
       "      <td>1</td>\n",
       "    </tr>\n",
       "    <tr>\n",
       "      <th>2nMeu6UenVvwUktBCpLMK9</th>\n",
       "      <td>0.324</td>\n",
       "      <td>0.4160</td>\n",
       "      <td>11</td>\n",
       "      <td>0</td>\n",
       "      <td>0.0368</td>\n",
       "      <td>0.262000</td>\n",
       "      <td>0.000037</td>\n",
       "      <td>0.1100</td>\n",
       "      <td>0.1510</td>\n",
       "      <td>113.986</td>\n",
       "      <td>236053</td>\n",
       "      <td>-8.920</td>\n",
       "      <td>1</td>\n",
       "    </tr>\n",
       "    <tr>\n",
       "      <th>7CG8Oz7GD8cTdU9SausPhj</th>\n",
       "      <td>0.559</td>\n",
       "      <td>0.5620</td>\n",
       "      <td>9</td>\n",
       "      <td>1</td>\n",
       "      <td>0.0274</td>\n",
       "      <td>0.006550</td>\n",
       "      <td>0.000000</td>\n",
       "      <td>0.0863</td>\n",
       "      <td>0.6330</td>\n",
       "      <td>111.383</td>\n",
       "      <td>216907</td>\n",
       "      <td>-9.735</td>\n",
       "      <td>1</td>\n",
       "    </tr>\n",
       "    <tr>\n",
       "      <th>14Sj7kFWV3xdCVfJ0Ym11J</th>\n",
       "      <td>0.657</td>\n",
       "      <td>0.9070</td>\n",
       "      <td>4</td>\n",
       "      <td>1</td>\n",
       "      <td>0.0274</td>\n",
       "      <td>0.115000</td>\n",
       "      <td>0.000065</td>\n",
       "      <td>0.0387</td>\n",
       "      <td>0.7650</td>\n",
       "      <td>95.998</td>\n",
       "      <td>414013</td>\n",
       "      <td>-4.884</td>\n",
       "      <td>0</td>\n",
       "    </tr>\n",
       "    <tr>\n",
       "      <th>3RyuWd7xlLJdLddH6Kt2o6</th>\n",
       "      <td>0.489</td>\n",
       "      <td>0.9550</td>\n",
       "      <td>11</td>\n",
       "      <td>0</td>\n",
       "      <td>0.0363</td>\n",
       "      <td>0.000038</td>\n",
       "      <td>0.000186</td>\n",
       "      <td>0.3340</td>\n",
       "      <td>0.8150</td>\n",
       "      <td>129.352</td>\n",
       "      <td>186173</td>\n",
       "      <td>-2.771</td>\n",
       "      <td>1</td>\n",
       "    </tr>\n",
       "    <tr>\n",
       "      <th>6l26mQLF7A4lu9djfIez7O</th>\n",
       "      <td>0.660</td>\n",
       "      <td>0.9910</td>\n",
       "      <td>7</td>\n",
       "      <td>1</td>\n",
       "      <td>0.0550</td>\n",
       "      <td>0.003100</td>\n",
       "      <td>0.000122</td>\n",
       "      <td>0.0610</td>\n",
       "      <td>0.7960</td>\n",
       "      <td>121.467</td>\n",
       "      <td>208560</td>\n",
       "      <td>-5.288</td>\n",
       "      <td>1</td>\n",
       "    </tr>\n",
       "    <tr>\n",
       "      <th>6j6bTAiW0oEfLlAjmRNcbb</th>\n",
       "      <td>0.333</td>\n",
       "      <td>0.6100</td>\n",
       "      <td>9</td>\n",
       "      <td>1</td>\n",
       "      <td>0.0368</td>\n",
       "      <td>0.026200</td>\n",
       "      <td>0.000000</td>\n",
       "      <td>0.0817</td>\n",
       "      <td>0.2810</td>\n",
       "      <td>83.622</td>\n",
       "      <td>224720</td>\n",
       "      <td>-10.133</td>\n",
       "      <td>1</td>\n",
       "    </tr>\n",
       "    <tr>\n",
       "      <th>0DwQ9yOc3kHfUVw9SKzTu7</th>\n",
       "      <td>0.705</td>\n",
       "      <td>0.4750</td>\n",
       "      <td>3</td>\n",
       "      <td>0</td>\n",
       "      <td>0.0555</td>\n",
       "      <td>0.639000</td>\n",
       "      <td>0.000881</td>\n",
       "      <td>0.0980</td>\n",
       "      <td>0.6040</td>\n",
       "      <td>105.270</td>\n",
       "      <td>161093</td>\n",
       "      <td>-9.166</td>\n",
       "      <td>0</td>\n",
       "    </tr>\n",
       "    <tr>\n",
       "      <th>26hLLBVbfAn7Qyot9BZyzK</th>\n",
       "      <td>0.535</td>\n",
       "      <td>0.0857</td>\n",
       "      <td>9</td>\n",
       "      <td>0</td>\n",
       "      <td>0.0470</td>\n",
       "      <td>0.981000</td>\n",
       "      <td>0.002290</td>\n",
       "      <td>0.1320</td>\n",
       "      <td>0.1420</td>\n",
       "      <td>74.919</td>\n",
       "      <td>276560</td>\n",
       "      <td>-16.193</td>\n",
       "      <td>0</td>\n",
       "    </tr>\n",
       "    <tr>\n",
       "      <th>4fINc8dnfcz7AdhFYVA4i7</th>\n",
       "      <td>0.668</td>\n",
       "      <td>0.7180</td>\n",
       "      <td>1</td>\n",
       "      <td>0</td>\n",
       "      <td>0.0605</td>\n",
       "      <td>0.016500</td>\n",
       "      <td>0.000000</td>\n",
       "      <td>0.1040</td>\n",
       "      <td>0.3450</td>\n",
       "      <td>91.993</td>\n",
       "      <td>192200</td>\n",
       "      <td>-4.736</td>\n",
       "      <td>1</td>\n",
       "    </tr>\n",
       "    <tr>\n",
       "      <th>2d8JP84HNLKhmd6IYOoupQ</th>\n",
       "      <td>0.746</td>\n",
       "      <td>0.8730</td>\n",
       "      <td>7</td>\n",
       "      <td>1</td>\n",
       "      <td>0.1280</td>\n",
       "      <td>0.024400</td>\n",
       "      <td>0.000000</td>\n",
       "      <td>0.3540</td>\n",
       "      <td>0.8170</td>\n",
       "      <td>148.075</td>\n",
       "      <td>222093</td>\n",
       "      <td>-3.803</td>\n",
       "      <td>1</td>\n",
       "    </tr>\n",
       "    <tr>\n",
       "      <th>5vmZaPaRHzpvaAclGZbsgB</th>\n",
       "      <td>0.740</td>\n",
       "      <td>0.8430</td>\n",
       "      <td>6</td>\n",
       "      <td>1</td>\n",
       "      <td>0.3760</td>\n",
       "      <td>0.267000</td>\n",
       "      <td>0.000000</td>\n",
       "      <td>0.1020</td>\n",
       "      <td>0.8680</td>\n",
       "      <td>90.232</td>\n",
       "      <td>181227</td>\n",
       "      <td>-3.877</td>\n",
       "      <td>0</td>\n",
       "    </tr>\n",
       "    <tr>\n",
       "      <th>44lusH2vzc4sRAwsooRhPh</th>\n",
       "      <td>0.912</td>\n",
       "      <td>0.5330</td>\n",
       "      <td>1</td>\n",
       "      <td>1</td>\n",
       "      <td>0.0618</td>\n",
       "      <td>0.092000</td>\n",
       "      <td>0.000001</td>\n",
       "      <td>0.1740</td>\n",
       "      <td>0.2080</td>\n",
       "      <td>119.922</td>\n",
       "      <td>233680</td>\n",
       "      <td>-5.587</td>\n",
       "      <td>1</td>\n",
       "    </tr>\n",
       "    <tr>\n",
       "      <th>4du0TY3NTgvQGlelrBHfDL</th>\n",
       "      <td>0.515</td>\n",
       "      <td>0.9080</td>\n",
       "      <td>8</td>\n",
       "      <td>1</td>\n",
       "      <td>0.0368</td>\n",
       "      <td>0.015800</td>\n",
       "      <td>0.000019</td>\n",
       "      <td>0.4120</td>\n",
       "      <td>0.6370</td>\n",
       "      <td>150.031</td>\n",
       "      <td>252600</td>\n",
       "      <td>-4.632</td>\n",
       "      <td>1</td>\n",
       "    </tr>\n",
       "    <tr>\n",
       "      <th>3AS6blGeglPYw9IpugJFYH</th>\n",
       "      <td>0.445</td>\n",
       "      <td>0.1620</td>\n",
       "      <td>0</td>\n",
       "      <td>1</td>\n",
       "      <td>0.0289</td>\n",
       "      <td>0.867000</td>\n",
       "      <td>0.854000</td>\n",
       "      <td>0.0806</td>\n",
       "      <td>0.1730</td>\n",
       "      <td>74.422</td>\n",
       "      <td>181418</td>\n",
       "      <td>-16.081</td>\n",
       "      <td>0</td>\n",
       "    </tr>\n",
       "    <tr>\n",
       "      <th>41OT0ZZ5u5sxIcSuTUqclP</th>\n",
       "      <td>0.638</td>\n",
       "      <td>0.6270</td>\n",
       "      <td>4</td>\n",
       "      <td>0</td>\n",
       "      <td>0.0372</td>\n",
       "      <td>0.061700</td>\n",
       "      <td>0.000000</td>\n",
       "      <td>0.9620</td>\n",
       "      <td>0.4590</td>\n",
       "      <td>131.944</td>\n",
       "      <td>177560</td>\n",
       "      <td>-7.759</td>\n",
       "      <td>0</td>\n",
       "    </tr>\n",
       "    <tr>\n",
       "      <th>6T3jK7JimstQ7HrP6X8Jzh</th>\n",
       "      <td>0.569</td>\n",
       "      <td>0.3590</td>\n",
       "      <td>0</td>\n",
       "      <td>1</td>\n",
       "      <td>0.0247</td>\n",
       "      <td>0.323000</td>\n",
       "      <td>0.000003</td>\n",
       "      <td>0.1190</td>\n",
       "      <td>0.3680</td>\n",
       "      <td>80.979</td>\n",
       "      <td>277560</td>\n",
       "      <td>-9.188</td>\n",
       "      <td>0</td>\n",
       "    </tr>\n",
       "    <tr>\n",
       "      <th>4yKO4HM1bmdPEtoxuJSbuc</th>\n",
       "      <td>0.784</td>\n",
       "      <td>0.8200</td>\n",
       "      <td>10</td>\n",
       "      <td>1</td>\n",
       "      <td>0.0429</td>\n",
       "      <td>0.007910</td>\n",
       "      <td>0.000000</td>\n",
       "      <td>0.2730</td>\n",
       "      <td>0.8860</td>\n",
       "      <td>111.991</td>\n",
       "      <td>232707</td>\n",
       "      <td>-5.862</td>\n",
       "      <td>0</td>\n",
       "    </tr>\n",
       "    <tr>\n",
       "      <th>2LUlbSNrlUKDc7hFZg6WnE</th>\n",
       "      <td>0.497</td>\n",
       "      <td>0.3620</td>\n",
       "      <td>9</td>\n",
       "      <td>1</td>\n",
       "      <td>0.0252</td>\n",
       "      <td>0.374000</td>\n",
       "      <td>0.000011</td>\n",
       "      <td>0.1050</td>\n",
       "      <td>0.1420</td>\n",
       "      <td>152.027</td>\n",
       "      <td>270080</td>\n",
       "      <td>-7.671</td>\n",
       "      <td>0</td>\n",
       "    </tr>\n",
       "    <tr>\n",
       "      <th>7uWKPZtMu0mNAkW25ComAw</th>\n",
       "      <td>0.152</td>\n",
       "      <td>0.5390</td>\n",
       "      <td>10</td>\n",
       "      <td>0</td>\n",
       "      <td>0.0387</td>\n",
       "      <td>0.020600</td>\n",
       "      <td>0.372000</td>\n",
       "      <td>0.3730</td>\n",
       "      <td>0.0906</td>\n",
       "      <td>93.906</td>\n",
       "      <td>69907</td>\n",
       "      <td>-8.173</td>\n",
       "      <td>0</td>\n",
       "    </tr>\n",
       "    <tr>\n",
       "      <th>3lyeSiAIdLoZUHhV8psOTI</th>\n",
       "      <td>0.853</td>\n",
       "      <td>0.6880</td>\n",
       "      <td>8</td>\n",
       "      <td>0</td>\n",
       "      <td>0.2960</td>\n",
       "      <td>0.011800</td>\n",
       "      <td>0.000000</td>\n",
       "      <td>0.1510</td>\n",
       "      <td>0.5650</td>\n",
       "      <td>150.012</td>\n",
       "      <td>166693</td>\n",
       "      <td>-6.509</td>\n",
       "      <td>1</td>\n",
       "    </tr>\n",
       "    <tr>\n",
       "      <th>3ZqjDpr3qCZnZBPcd0Hpj2</th>\n",
       "      <td>0.728</td>\n",
       "      <td>0.4640</td>\n",
       "      <td>1</td>\n",
       "      <td>1</td>\n",
       "      <td>0.0605</td>\n",
       "      <td>0.086500</td>\n",
       "      <td>0.000000</td>\n",
       "      <td>0.3430</td>\n",
       "      <td>0.3830</td>\n",
       "      <td>96.944</td>\n",
       "      <td>304467</td>\n",
       "      <td>-11.156</td>\n",
       "      <td>1</td>\n",
       "    </tr>\n",
       "    <tr>\n",
       "      <th>75scDPqGs75FotglJSoOI2</th>\n",
       "      <td>0.606</td>\n",
       "      <td>0.8480</td>\n",
       "      <td>11</td>\n",
       "      <td>1</td>\n",
       "      <td>0.1840</td>\n",
       "      <td>0.011400</td>\n",
       "      <td>0.000001</td>\n",
       "      <td>0.2060</td>\n",
       "      <td>0.5400</td>\n",
       "      <td>170.010</td>\n",
       "      <td>307676</td>\n",
       "      <td>-3.952</td>\n",
       "      <td>1</td>\n",
       "    </tr>\n",
       "    <tr>\n",
       "      <th>0eMBT8pajtxCOmQYSVpcxE</th>\n",
       "      <td>0.256</td>\n",
       "      <td>0.2190</td>\n",
       "      <td>1</td>\n",
       "      <td>0</td>\n",
       "      <td>0.0354</td>\n",
       "      <td>0.869000</td>\n",
       "      <td>0.000051</td>\n",
       "      <td>0.1080</td>\n",
       "      <td>0.0980</td>\n",
       "      <td>172.686</td>\n",
       "      <td>337600</td>\n",
       "      <td>-9.617</td>\n",
       "      <td>1</td>\n",
       "    </tr>\n",
       "    <tr>\n",
       "      <th>4PJXT82AZtlDW4Q71b43oz</th>\n",
       "      <td>0.527</td>\n",
       "      <td>0.7230</td>\n",
       "      <td>1</td>\n",
       "      <td>1</td>\n",
       "      <td>0.0411</td>\n",
       "      <td>0.217000</td>\n",
       "      <td>0.000000</td>\n",
       "      <td>0.0370</td>\n",
       "      <td>0.8880</td>\n",
       "      <td>160.465</td>\n",
       "      <td>236800</td>\n",
       "      <td>-6.134</td>\n",
       "      <td>1</td>\n",
       "    </tr>\n",
       "    <tr>\n",
       "      <th>5qxULZVAM943gPjtMaH5NX</th>\n",
       "      <td>0.639</td>\n",
       "      <td>0.9070</td>\n",
       "      <td>7</td>\n",
       "      <td>0</td>\n",
       "      <td>0.1890</td>\n",
       "      <td>0.044400</td>\n",
       "      <td>0.000000</td>\n",
       "      <td>0.1140</td>\n",
       "      <td>0.6990</td>\n",
       "      <td>120.954</td>\n",
       "      <td>214280</td>\n",
       "      <td>-4.749</td>\n",
       "      <td>1</td>\n",
       "    </tr>\n",
       "    <tr>\n",
       "      <th>0Jg602cHeMCnPez9baacIe</th>\n",
       "      <td>0.738</td>\n",
       "      <td>0.9370</td>\n",
       "      <td>9</td>\n",
       "      <td>0</td>\n",
       "      <td>0.0668</td>\n",
       "      <td>0.012400</td>\n",
       "      <td>0.002060</td>\n",
       "      <td>0.0338</td>\n",
       "      <td>0.6140</td>\n",
       "      <td>131.994</td>\n",
       "      <td>193827</td>\n",
       "      <td>-7.788</td>\n",
       "      <td>1</td>\n",
       "    </tr>\n",
       "    <tr>\n",
       "      <th>3qJ588MifWAmC9wuJnG84B</th>\n",
       "      <td>0.850</td>\n",
       "      <td>0.5390</td>\n",
       "      <td>3</td>\n",
       "      <td>1</td>\n",
       "      <td>0.0327</td>\n",
       "      <td>0.029200</td>\n",
       "      <td>0.039700</td>\n",
       "      <td>0.0549</td>\n",
       "      <td>0.9560</td>\n",
       "      <td>96.031</td>\n",
       "      <td>100360</td>\n",
       "      <td>-7.109</td>\n",
       "      <td>0</td>\n",
       "    </tr>\n",
       "    <tr>\n",
       "      <th>11mwFrKvLXCbcVGNxffGyP</th>\n",
       "      <td>0.627</td>\n",
       "      <td>0.8000</td>\n",
       "      <td>1</td>\n",
       "      <td>1</td>\n",
       "      <td>0.1620</td>\n",
       "      <td>0.210000</td>\n",
       "      <td>0.000123</td>\n",
       "      <td>0.1370</td>\n",
       "      <td>0.9120</td>\n",
       "      <td>175.815</td>\n",
       "      <td>217573</td>\n",
       "      <td>-6.945</td>\n",
       "      <td>1</td>\n",
       "    </tr>\n",
       "    <tr>\n",
       "      <th>6ofEW2I0wej653KfYPP1mJ</th>\n",
       "      <td>0.358</td>\n",
       "      <td>0.1500</td>\n",
       "      <td>3</td>\n",
       "      <td>1</td>\n",
       "      <td>0.0400</td>\n",
       "      <td>0.942000</td>\n",
       "      <td>0.850000</td>\n",
       "      <td>0.0988</td>\n",
       "      <td>0.0395</td>\n",
       "      <td>104.758</td>\n",
       "      <td>232733</td>\n",
       "      <td>-22.422</td>\n",
       "      <td>0</td>\n",
       "    </tr>\n",
       "    <tr>\n",
       "      <th>5xDDEqO786YBj3tJDSR2Ms</th>\n",
       "      <td>0.643</td>\n",
       "      <td>0.8430</td>\n",
       "      <td>3</td>\n",
       "      <td>1</td>\n",
       "      <td>0.0384</td>\n",
       "      <td>0.172000</td>\n",
       "      <td>0.024700</td>\n",
       "      <td>0.1220</td>\n",
       "      <td>0.6660</td>\n",
       "      <td>105.744</td>\n",
       "      <td>252800</td>\n",
       "      <td>-5.533</td>\n",
       "      <td>1</td>\n",
       "    </tr>\n",
       "    <tr>\n",
       "      <th>7s49Um7G06hq2rulrHPsIy</th>\n",
       "      <td>0.893</td>\n",
       "      <td>0.6460</td>\n",
       "      <td>11</td>\n",
       "      <td>0</td>\n",
       "      <td>0.1000</td>\n",
       "      <td>0.112000</td>\n",
       "      <td>0.000000</td>\n",
       "      <td>0.1040</td>\n",
       "      <td>0.4680</td>\n",
       "      <td>132.970</td>\n",
       "      <td>176855</td>\n",
       "      <td>-5.073</td>\n",
       "      <td>1</td>\n",
       "    </tr>\n",
       "    <tr>\n",
       "      <th>7sLpSWxQazJzDVG6YGzlVs</th>\n",
       "      <td>0.494</td>\n",
       "      <td>0.8870</td>\n",
       "      <td>6</td>\n",
       "      <td>0</td>\n",
       "      <td>0.3980</td>\n",
       "      <td>0.006610</td>\n",
       "      <td>0.000000</td>\n",
       "      <td>0.1030</td>\n",
       "      <td>0.5480</td>\n",
       "      <td>89.554</td>\n",
       "      <td>234627</td>\n",
       "      <td>-4.297</td>\n",
       "      <td>1</td>\n",
       "    </tr>\n",
       "    <tr>\n",
       "      <th>5MiIyCJ1DYbWLdwWYzyNcJ</th>\n",
       "      <td>0.906</td>\n",
       "      <td>0.4860</td>\n",
       "      <td>9</td>\n",
       "      <td>0</td>\n",
       "      <td>0.0408</td>\n",
       "      <td>0.022700</td>\n",
       "      <td>0.000757</td>\n",
       "      <td>0.0725</td>\n",
       "      <td>0.8210</td>\n",
       "      <td>102.031</td>\n",
       "      <td>236507</td>\n",
       "      <td>-7.189</td>\n",
       "      <td>1</td>\n",
       "    </tr>\n",
       "    <tr>\n",
       "      <th>2k79z9A1dbdQ8gQG8M1Zz5</th>\n",
       "      <td>0.715</td>\n",
       "      <td>0.7450</td>\n",
       "      <td>9</td>\n",
       "      <td>1</td>\n",
       "      <td>0.2500</td>\n",
       "      <td>0.031100</td>\n",
       "      <td>0.000000</td>\n",
       "      <td>0.0823</td>\n",
       "      <td>0.6870</td>\n",
       "      <td>148.042</td>\n",
       "      <td>262440</td>\n",
       "      <td>-5.710</td>\n",
       "      <td>1</td>\n",
       "    </tr>\n",
       "    <tr>\n",
       "      <th>180jaPAbXwB4nvtieXteYf</th>\n",
       "      <td>0.381</td>\n",
       "      <td>0.6800</td>\n",
       "      <td>1</td>\n",
       "      <td>1</td>\n",
       "      <td>0.1620</td>\n",
       "      <td>0.087600</td>\n",
       "      <td>0.001470</td>\n",
       "      <td>0.1680</td>\n",
       "      <td>0.1670</td>\n",
       "      <td>162.246</td>\n",
       "      <td>235773</td>\n",
       "      <td>-4.724</td>\n",
       "      <td>1</td>\n",
       "    </tr>\n",
       "    <tr>\n",
       "      <th>1ZY1PqizIl78geGM4xWlEA</th>\n",
       "      <td>0.800</td>\n",
       "      <td>0.5350</td>\n",
       "      <td>7</td>\n",
       "      <td>1</td>\n",
       "      <td>0.1350</td>\n",
       "      <td>0.071300</td>\n",
       "      <td>0.000009</td>\n",
       "      <td>0.2130</td>\n",
       "      <td>0.4510</td>\n",
       "      <td>92.027</td>\n",
       "      <td>209680</td>\n",
       "      <td>-6.684</td>\n",
       "      <td>1</td>\n",
       "    </tr>\n",
       "    <tr>\n",
       "      <th>4eNg8rPjNB6MC97ZJg6HF3</th>\n",
       "      <td>0.338</td>\n",
       "      <td>0.8800</td>\n",
       "      <td>1</td>\n",
       "      <td>1</td>\n",
       "      <td>0.1710</td>\n",
       "      <td>0.001540</td>\n",
       "      <td>0.000002</td>\n",
       "      <td>0.3400</td>\n",
       "      <td>0.9260</td>\n",
       "      <td>188.916</td>\n",
       "      <td>200933</td>\n",
       "      <td>-5.346</td>\n",
       "      <td>1</td>\n",
       "    </tr>\n",
       "    <tr>\n",
       "      <th>4wzt5Rrk3W98pHXAqutuJw</th>\n",
       "      <td>0.413</td>\n",
       "      <td>0.5570</td>\n",
       "      <td>7</td>\n",
       "      <td>0</td>\n",
       "      <td>0.0335</td>\n",
       "      <td>0.005480</td>\n",
       "      <td>0.002270</td>\n",
       "      <td>0.1550</td>\n",
       "      <td>0.1580</td>\n",
       "      <td>120.318</td>\n",
       "      <td>311292</td>\n",
       "      <td>-10.841</td>\n",
       "      <td>1</td>\n",
       "    </tr>\n",
       "    <tr>\n",
       "      <th>4vaxvNDaLSoD36iZX515ug</th>\n",
       "      <td>0.821</td>\n",
       "      <td>0.4340</td>\n",
       "      <td>10</td>\n",
       "      <td>0</td>\n",
       "      <td>0.1180</td>\n",
       "      <td>0.434000</td>\n",
       "      <td>0.000000</td>\n",
       "      <td>0.1280</td>\n",
       "      <td>0.2410</td>\n",
       "      <td>120.012</td>\n",
       "      <td>187173</td>\n",
       "      <td>-9.194</td>\n",
       "      <td>1</td>\n",
       "    </tr>\n",
       "    <tr>\n",
       "      <th>22l3WmLzZsUAfNwrvyFVNj</th>\n",
       "      <td>0.578</td>\n",
       "      <td>0.5180</td>\n",
       "      <td>10</td>\n",
       "      <td>1</td>\n",
       "      <td>0.1640</td>\n",
       "      <td>0.843000</td>\n",
       "      <td>0.000000</td>\n",
       "      <td>0.3660</td>\n",
       "      <td>0.8830</td>\n",
       "      <td>153.815</td>\n",
       "      <td>163053</td>\n",
       "      <td>-9.032</td>\n",
       "      <td>0</td>\n",
       "    </tr>\n",
       "    <tr>\n",
       "      <th>39PVOORH2fs64VaPGGai5m</th>\n",
       "      <td>0.758</td>\n",
       "      <td>0.3930</td>\n",
       "      <td>9</td>\n",
       "      <td>1</td>\n",
       "      <td>0.0344</td>\n",
       "      <td>0.955000</td>\n",
       "      <td>0.882000</td>\n",
       "      <td>0.3400</td>\n",
       "      <td>0.8450</td>\n",
       "      <td>114.995</td>\n",
       "      <td>114640</td>\n",
       "      <td>-11.235</td>\n",
       "      <td>0</td>\n",
       "    </tr>\n",
       "    <tr>\n",
       "      <th>5MsZIaCYY6Tsdph0LiB0hE</th>\n",
       "      <td>0.552</td>\n",
       "      <td>0.9150</td>\n",
       "      <td>4</td>\n",
       "      <td>1</td>\n",
       "      <td>0.0559</td>\n",
       "      <td>0.001300</td>\n",
       "      <td>0.000037</td>\n",
       "      <td>0.2060</td>\n",
       "      <td>0.6060</td>\n",
       "      <td>90.013</td>\n",
       "      <td>203413</td>\n",
       "      <td>-3.713</td>\n",
       "      <td>1</td>\n",
       "    </tr>\n",
       "    <tr>\n",
       "      <th>5QJSD5GQOq72OmwLV5IHUV</th>\n",
       "      <td>0.716</td>\n",
       "      <td>0.8180</td>\n",
       "      <td>7</td>\n",
       "      <td>1</td>\n",
       "      <td>0.0256</td>\n",
       "      <td>0.154000</td>\n",
       "      <td>0.000806</td>\n",
       "      <td>0.2360</td>\n",
       "      <td>0.8170</td>\n",
       "      <td>103.668</td>\n",
       "      <td>248600</td>\n",
       "      <td>-7.456</td>\n",
       "      <td>1</td>\n",
       "    </tr>\n",
       "    <tr>\n",
       "      <th>7dcTSq2HC4kzvcWFcSfJy1</th>\n",
       "      <td>0.505</td>\n",
       "      <td>0.7180</td>\n",
       "      <td>10</td>\n",
       "      <td>1</td>\n",
       "      <td>0.0266</td>\n",
       "      <td>0.430000</td>\n",
       "      <td>0.000004</td>\n",
       "      <td>0.1760</td>\n",
       "      <td>0.7440</td>\n",
       "      <td>185.804</td>\n",
       "      <td>249387</td>\n",
       "      <td>-4.878</td>\n",
       "      <td>1</td>\n",
       "    </tr>\n",
       "    <tr>\n",
       "      <th>14I21BorF669AQcdhe2CSg</th>\n",
       "      <td>0.595</td>\n",
       "      <td>0.9120</td>\n",
       "      <td>9</td>\n",
       "      <td>0</td>\n",
       "      <td>0.0411</td>\n",
       "      <td>0.822000</td>\n",
       "      <td>0.878000</td>\n",
       "      <td>0.3290</td>\n",
       "      <td>0.5210</td>\n",
       "      <td>135.380</td>\n",
       "      <td>180480</td>\n",
       "      <td>-5.759</td>\n",
       "      <td>0</td>\n",
       "    </tr>\n",
       "    <tr>\n",
       "      <th>0QZ5yyl6B6utIWkxeBDxQN</th>\n",
       "      <td>0.545</td>\n",
       "      <td>0.3660</td>\n",
       "      <td>2</td>\n",
       "      <td>1</td>\n",
       "      <td>0.0378</td>\n",
       "      <td>0.969000</td>\n",
       "      <td>0.267000</td>\n",
       "      <td>0.6410</td>\n",
       "      <td>0.1000</td>\n",
       "      <td>86.997</td>\n",
       "      <td>208212</td>\n",
       "      <td>-9.510</td>\n",
       "      <td>1</td>\n",
       "    </tr>\n",
       "    <tr>\n",
       "      <th>1FHmZ3jNK06PgJhvZjdtMD</th>\n",
       "      <td>0.628</td>\n",
       "      <td>0.4260</td>\n",
       "      <td>5</td>\n",
       "      <td>0</td>\n",
       "      <td>0.0313</td>\n",
       "      <td>0.197000</td>\n",
       "      <td>0.001100</td>\n",
       "      <td>0.0919</td>\n",
       "      <td>0.5290</td>\n",
       "      <td>185.963</td>\n",
       "      <td>275533</td>\n",
       "      <td>-8.084</td>\n",
       "      <td>1</td>\n",
       "    </tr>\n",
       "    <tr>\n",
       "      <th>6wxwluMol35MvBMIej6NNl</th>\n",
       "      <td>0.576</td>\n",
       "      <td>0.7510</td>\n",
       "      <td>0</td>\n",
       "      <td>1</td>\n",
       "      <td>0.0469</td>\n",
       "      <td>0.334000</td>\n",
       "      <td>0.000000</td>\n",
       "      <td>0.1390</td>\n",
       "      <td>0.4790</td>\n",
       "      <td>91.051</td>\n",
       "      <td>247773</td>\n",
       "      <td>-5.333</td>\n",
       "      <td>1</td>\n",
       "    </tr>\n",
       "    <tr>\n",
       "      <th>1aFT33kWhjB58tCmncpK74</th>\n",
       "      <td>0.178</td>\n",
       "      <td>0.8480</td>\n",
       "      <td>0</td>\n",
       "      <td>1</td>\n",
       "      <td>0.0701</td>\n",
       "      <td>0.000236</td>\n",
       "      <td>0.000014</td>\n",
       "      <td>0.5870</td>\n",
       "      <td>0.3470</td>\n",
       "      <td>156.805</td>\n",
       "      <td>148123</td>\n",
       "      <td>-5.005</td>\n",
       "      <td>0</td>\n",
       "    </tr>\n",
       "    <tr>\n",
       "      <th>5TdCUrQdTWZoTSAZH7Pfup</th>\n",
       "      <td>0.583</td>\n",
       "      <td>0.3160</td>\n",
       "      <td>11</td>\n",
       "      <td>0</td>\n",
       "      <td>0.0272</td>\n",
       "      <td>0.607000</td>\n",
       "      <td>0.000020</td>\n",
       "      <td>0.1070</td>\n",
       "      <td>0.6260</td>\n",
       "      <td>99.690</td>\n",
       "      <td>153267</td>\n",
       "      <td>-8.953</td>\n",
       "      <td>0</td>\n",
       "    </tr>\n",
       "    <tr>\n",
       "      <th>7jOpLNcEzwwlzE1LMLPQu5</th>\n",
       "      <td>0.374</td>\n",
       "      <td>0.7000</td>\n",
       "      <td>2</td>\n",
       "      <td>1</td>\n",
       "      <td>0.0394</td>\n",
       "      <td>0.938000</td>\n",
       "      <td>0.963000</td>\n",
       "      <td>0.1720</td>\n",
       "      <td>0.9800</td>\n",
       "      <td>116.077</td>\n",
       "      <td>204973</td>\n",
       "      <td>-11.511</td>\n",
       "      <td>0</td>\n",
       "    </tr>\n",
       "    <tr>\n",
       "      <th>0WC05B34BCl3ue6NV0IdU7</th>\n",
       "      <td>0.595</td>\n",
       "      <td>0.8960</td>\n",
       "      <td>9</td>\n",
       "      <td>0</td>\n",
       "      <td>0.0407</td>\n",
       "      <td>0.041800</td>\n",
       "      <td>0.603000</td>\n",
       "      <td>0.6810</td>\n",
       "      <td>0.7970</td>\n",
       "      <td>136.988</td>\n",
       "      <td>349000</td>\n",
       "      <td>-6.789</td>\n",
       "      <td>0</td>\n",
       "    </tr>\n",
       "  </tbody>\n",
       "</table>\n",
       "</div>"
      ],
      "text/plain": [
       "                        danceability  energy  key  mode  speechiness  \\\n",
       "SpotifyID                                                              \n",
       "0QV16pno66L6K3fn4W13b7         0.788  0.6890    8     1       0.1300   \n",
       "2iVtt0mYIL26IGAgRkhHT5         0.618  0.7170    9     1       0.0300   \n",
       "5lN5aVYeTdA1pZ1JScRtWn         0.374  0.7990    0     1       0.0426   \n",
       "3hJQ0Bzblzx7JY5rKPvap0         0.789  0.6980    0     1       0.0467   \n",
       "2nMeu6UenVvwUktBCpLMK9         0.324  0.4160   11     0       0.0368   \n",
       "7CG8Oz7GD8cTdU9SausPhj         0.559  0.5620    9     1       0.0274   \n",
       "14Sj7kFWV3xdCVfJ0Ym11J         0.657  0.9070    4     1       0.0274   \n",
       "3RyuWd7xlLJdLddH6Kt2o6         0.489  0.9550   11     0       0.0363   \n",
       "6l26mQLF7A4lu9djfIez7O         0.660  0.9910    7     1       0.0550   \n",
       "6j6bTAiW0oEfLlAjmRNcbb         0.333  0.6100    9     1       0.0368   \n",
       "0DwQ9yOc3kHfUVw9SKzTu7         0.705  0.4750    3     0       0.0555   \n",
       "26hLLBVbfAn7Qyot9BZyzK         0.535  0.0857    9     0       0.0470   \n",
       "4fINc8dnfcz7AdhFYVA4i7         0.668  0.7180    1     0       0.0605   \n",
       "2d8JP84HNLKhmd6IYOoupQ         0.746  0.8730    7     1       0.1280   \n",
       "5vmZaPaRHzpvaAclGZbsgB         0.740  0.8430    6     1       0.3760   \n",
       "44lusH2vzc4sRAwsooRhPh         0.912  0.5330    1     1       0.0618   \n",
       "4du0TY3NTgvQGlelrBHfDL         0.515  0.9080    8     1       0.0368   \n",
       "3AS6blGeglPYw9IpugJFYH         0.445  0.1620    0     1       0.0289   \n",
       "41OT0ZZ5u5sxIcSuTUqclP         0.638  0.6270    4     0       0.0372   \n",
       "6T3jK7JimstQ7HrP6X8Jzh         0.569  0.3590    0     1       0.0247   \n",
       "4yKO4HM1bmdPEtoxuJSbuc         0.784  0.8200   10     1       0.0429   \n",
       "2LUlbSNrlUKDc7hFZg6WnE         0.497  0.3620    9     1       0.0252   \n",
       "7uWKPZtMu0mNAkW25ComAw         0.152  0.5390   10     0       0.0387   \n",
       "3lyeSiAIdLoZUHhV8psOTI         0.853  0.6880    8     0       0.2960   \n",
       "3ZqjDpr3qCZnZBPcd0Hpj2         0.728  0.4640    1     1       0.0605   \n",
       "75scDPqGs75FotglJSoOI2         0.606  0.8480   11     1       0.1840   \n",
       "0eMBT8pajtxCOmQYSVpcxE         0.256  0.2190    1     0       0.0354   \n",
       "4PJXT82AZtlDW4Q71b43oz         0.527  0.7230    1     1       0.0411   \n",
       "5qxULZVAM943gPjtMaH5NX         0.639  0.9070    7     0       0.1890   \n",
       "0Jg602cHeMCnPez9baacIe         0.738  0.9370    9     0       0.0668   \n",
       "3qJ588MifWAmC9wuJnG84B         0.850  0.5390    3     1       0.0327   \n",
       "11mwFrKvLXCbcVGNxffGyP         0.627  0.8000    1     1       0.1620   \n",
       "6ofEW2I0wej653KfYPP1mJ         0.358  0.1500    3     1       0.0400   \n",
       "5xDDEqO786YBj3tJDSR2Ms         0.643  0.8430    3     1       0.0384   \n",
       "7s49Um7G06hq2rulrHPsIy         0.893  0.6460   11     0       0.1000   \n",
       "7sLpSWxQazJzDVG6YGzlVs         0.494  0.8870    6     0       0.3980   \n",
       "5MiIyCJ1DYbWLdwWYzyNcJ         0.906  0.4860    9     0       0.0408   \n",
       "2k79z9A1dbdQ8gQG8M1Zz5         0.715  0.7450    9     1       0.2500   \n",
       "180jaPAbXwB4nvtieXteYf         0.381  0.6800    1     1       0.1620   \n",
       "1ZY1PqizIl78geGM4xWlEA         0.800  0.5350    7     1       0.1350   \n",
       "4eNg8rPjNB6MC97ZJg6HF3         0.338  0.8800    1     1       0.1710   \n",
       "4wzt5Rrk3W98pHXAqutuJw         0.413  0.5570    7     0       0.0335   \n",
       "4vaxvNDaLSoD36iZX515ug         0.821  0.4340   10     0       0.1180   \n",
       "22l3WmLzZsUAfNwrvyFVNj         0.578  0.5180   10     1       0.1640   \n",
       "39PVOORH2fs64VaPGGai5m         0.758  0.3930    9     1       0.0344   \n",
       "5MsZIaCYY6Tsdph0LiB0hE         0.552  0.9150    4     1       0.0559   \n",
       "5QJSD5GQOq72OmwLV5IHUV         0.716  0.8180    7     1       0.0256   \n",
       "7dcTSq2HC4kzvcWFcSfJy1         0.505  0.7180   10     1       0.0266   \n",
       "14I21BorF669AQcdhe2CSg         0.595  0.9120    9     0       0.0411   \n",
       "0QZ5yyl6B6utIWkxeBDxQN         0.545  0.3660    2     1       0.0378   \n",
       "1FHmZ3jNK06PgJhvZjdtMD         0.628  0.4260    5     0       0.0313   \n",
       "6wxwluMol35MvBMIej6NNl         0.576  0.7510    0     1       0.0469   \n",
       "1aFT33kWhjB58tCmncpK74         0.178  0.8480    0     1       0.0701   \n",
       "5TdCUrQdTWZoTSAZH7Pfup         0.583  0.3160   11     0       0.0272   \n",
       "7jOpLNcEzwwlzE1LMLPQu5         0.374  0.7000    2     1       0.0394   \n",
       "0WC05B34BCl3ue6NV0IdU7         0.595  0.8960    9     0       0.0407   \n",
       "\n",
       "                        acousticness  instrumentalness  liveness  valence  \\\n",
       "SpotifyID                                                                   \n",
       "0QV16pno66L6K3fn4W13b7      0.011200          0.000000    0.2200   0.6810   \n",
       "2iVtt0mYIL26IGAgRkhHT5      0.016400          0.000339    0.0594   0.7610   \n",
       "5lN5aVYeTdA1pZ1JScRtWn      0.752000          0.008350    0.1680   0.8020   \n",
       "3hJQ0Bzblzx7JY5rKPvap0      0.023600          0.000000    0.0959   0.4160   \n",
       "2nMeu6UenVvwUktBCpLMK9      0.262000          0.000037    0.1100   0.1510   \n",
       "7CG8Oz7GD8cTdU9SausPhj      0.006550          0.000000    0.0863   0.6330   \n",
       "14Sj7kFWV3xdCVfJ0Ym11J      0.115000          0.000065    0.0387   0.7650   \n",
       "3RyuWd7xlLJdLddH6Kt2o6      0.000038          0.000186    0.3340   0.8150   \n",
       "6l26mQLF7A4lu9djfIez7O      0.003100          0.000122    0.0610   0.7960   \n",
       "6j6bTAiW0oEfLlAjmRNcbb      0.026200          0.000000    0.0817   0.2810   \n",
       "0DwQ9yOc3kHfUVw9SKzTu7      0.639000          0.000881    0.0980   0.6040   \n",
       "26hLLBVbfAn7Qyot9BZyzK      0.981000          0.002290    0.1320   0.1420   \n",
       "4fINc8dnfcz7AdhFYVA4i7      0.016500          0.000000    0.1040   0.3450   \n",
       "2d8JP84HNLKhmd6IYOoupQ      0.024400          0.000000    0.3540   0.8170   \n",
       "5vmZaPaRHzpvaAclGZbsgB      0.267000          0.000000    0.1020   0.8680   \n",
       "44lusH2vzc4sRAwsooRhPh      0.092000          0.000001    0.1740   0.2080   \n",
       "4du0TY3NTgvQGlelrBHfDL      0.015800          0.000019    0.4120   0.6370   \n",
       "3AS6blGeglPYw9IpugJFYH      0.867000          0.854000    0.0806   0.1730   \n",
       "41OT0ZZ5u5sxIcSuTUqclP      0.061700          0.000000    0.9620   0.4590   \n",
       "6T3jK7JimstQ7HrP6X8Jzh      0.323000          0.000003    0.1190   0.3680   \n",
       "4yKO4HM1bmdPEtoxuJSbuc      0.007910          0.000000    0.2730   0.8860   \n",
       "2LUlbSNrlUKDc7hFZg6WnE      0.374000          0.000011    0.1050   0.1420   \n",
       "7uWKPZtMu0mNAkW25ComAw      0.020600          0.372000    0.3730   0.0906   \n",
       "3lyeSiAIdLoZUHhV8psOTI      0.011800          0.000000    0.1510   0.5650   \n",
       "3ZqjDpr3qCZnZBPcd0Hpj2      0.086500          0.000000    0.3430   0.3830   \n",
       "75scDPqGs75FotglJSoOI2      0.011400          0.000001    0.2060   0.5400   \n",
       "0eMBT8pajtxCOmQYSVpcxE      0.869000          0.000051    0.1080   0.0980   \n",
       "4PJXT82AZtlDW4Q71b43oz      0.217000          0.000000    0.0370   0.8880   \n",
       "5qxULZVAM943gPjtMaH5NX      0.044400          0.000000    0.1140   0.6990   \n",
       "0Jg602cHeMCnPez9baacIe      0.012400          0.002060    0.0338   0.6140   \n",
       "3qJ588MifWAmC9wuJnG84B      0.029200          0.039700    0.0549   0.9560   \n",
       "11mwFrKvLXCbcVGNxffGyP      0.210000          0.000123    0.1370   0.9120   \n",
       "6ofEW2I0wej653KfYPP1mJ      0.942000          0.850000    0.0988   0.0395   \n",
       "5xDDEqO786YBj3tJDSR2Ms      0.172000          0.024700    0.1220   0.6660   \n",
       "7s49Um7G06hq2rulrHPsIy      0.112000          0.000000    0.1040   0.4680   \n",
       "7sLpSWxQazJzDVG6YGzlVs      0.006610          0.000000    0.1030   0.5480   \n",
       "5MiIyCJ1DYbWLdwWYzyNcJ      0.022700          0.000757    0.0725   0.8210   \n",
       "2k79z9A1dbdQ8gQG8M1Zz5      0.031100          0.000000    0.0823   0.6870   \n",
       "180jaPAbXwB4nvtieXteYf      0.087600          0.001470    0.1680   0.1670   \n",
       "1ZY1PqizIl78geGM4xWlEA      0.071300          0.000009    0.2130   0.4510   \n",
       "4eNg8rPjNB6MC97ZJg6HF3      0.001540          0.000002    0.3400   0.9260   \n",
       "4wzt5Rrk3W98pHXAqutuJw      0.005480          0.002270    0.1550   0.1580   \n",
       "4vaxvNDaLSoD36iZX515ug      0.434000          0.000000    0.1280   0.2410   \n",
       "22l3WmLzZsUAfNwrvyFVNj      0.843000          0.000000    0.3660   0.8830   \n",
       "39PVOORH2fs64VaPGGai5m      0.955000          0.882000    0.3400   0.8450   \n",
       "5MsZIaCYY6Tsdph0LiB0hE      0.001300          0.000037    0.2060   0.6060   \n",
       "5QJSD5GQOq72OmwLV5IHUV      0.154000          0.000806    0.2360   0.8170   \n",
       "7dcTSq2HC4kzvcWFcSfJy1      0.430000          0.000004    0.1760   0.7440   \n",
       "14I21BorF669AQcdhe2CSg      0.822000          0.878000    0.3290   0.5210   \n",
       "0QZ5yyl6B6utIWkxeBDxQN      0.969000          0.267000    0.6410   0.1000   \n",
       "1FHmZ3jNK06PgJhvZjdtMD      0.197000          0.001100    0.0919   0.5290   \n",
       "6wxwluMol35MvBMIej6NNl      0.334000          0.000000    0.1390   0.4790   \n",
       "1aFT33kWhjB58tCmncpK74      0.000236          0.000014    0.5870   0.3470   \n",
       "5TdCUrQdTWZoTSAZH7Pfup      0.607000          0.000020    0.1070   0.6260   \n",
       "7jOpLNcEzwwlzE1LMLPQu5      0.938000          0.963000    0.1720   0.9800   \n",
       "0WC05B34BCl3ue6NV0IdU7      0.041800          0.603000    0.6810   0.7970   \n",
       "\n",
       "                          tempo  duration_ms  loudness  is_hit  \n",
       "SpotifyID                                                       \n",
       "0QV16pno66L6K3fn4W13b7  136.045       189230    -7.211       1  \n",
       "2iVtt0mYIL26IGAgRkhHT5  114.802       213333   -12.107       1  \n",
       "5lN5aVYeTdA1pZ1JScRtWn  161.922       182013    -7.083       0  \n",
       "3hJQ0Bzblzx7JY5rKPvap0  123.849       198907    -5.837       1  \n",
       "2nMeu6UenVvwUktBCpLMK9  113.986       236053    -8.920       1  \n",
       "7CG8Oz7GD8cTdU9SausPhj  111.383       216907    -9.735       1  \n",
       "14Sj7kFWV3xdCVfJ0Ym11J   95.998       414013    -4.884       0  \n",
       "3RyuWd7xlLJdLddH6Kt2o6  129.352       186173    -2.771       1  \n",
       "6l26mQLF7A4lu9djfIez7O  121.467       208560    -5.288       1  \n",
       "6j6bTAiW0oEfLlAjmRNcbb   83.622       224720   -10.133       1  \n",
       "0DwQ9yOc3kHfUVw9SKzTu7  105.270       161093    -9.166       0  \n",
       "26hLLBVbfAn7Qyot9BZyzK   74.919       276560   -16.193       0  \n",
       "4fINc8dnfcz7AdhFYVA4i7   91.993       192200    -4.736       1  \n",
       "2d8JP84HNLKhmd6IYOoupQ  148.075       222093    -3.803       1  \n",
       "5vmZaPaRHzpvaAclGZbsgB   90.232       181227    -3.877       0  \n",
       "44lusH2vzc4sRAwsooRhPh  119.922       233680    -5.587       1  \n",
       "4du0TY3NTgvQGlelrBHfDL  150.031       252600    -4.632       1  \n",
       "3AS6blGeglPYw9IpugJFYH   74.422       181418   -16.081       0  \n",
       "41OT0ZZ5u5sxIcSuTUqclP  131.944       177560    -7.759       0  \n",
       "6T3jK7JimstQ7HrP6X8Jzh   80.979       277560    -9.188       0  \n",
       "4yKO4HM1bmdPEtoxuJSbuc  111.991       232707    -5.862       0  \n",
       "2LUlbSNrlUKDc7hFZg6WnE  152.027       270080    -7.671       0  \n",
       "7uWKPZtMu0mNAkW25ComAw   93.906        69907    -8.173       0  \n",
       "3lyeSiAIdLoZUHhV8psOTI  150.012       166693    -6.509       1  \n",
       "3ZqjDpr3qCZnZBPcd0Hpj2   96.944       304467   -11.156       1  \n",
       "75scDPqGs75FotglJSoOI2  170.010       307676    -3.952       1  \n",
       "0eMBT8pajtxCOmQYSVpcxE  172.686       337600    -9.617       1  \n",
       "4PJXT82AZtlDW4Q71b43oz  160.465       236800    -6.134       1  \n",
       "5qxULZVAM943gPjtMaH5NX  120.954       214280    -4.749       1  \n",
       "0Jg602cHeMCnPez9baacIe  131.994       193827    -7.788       1  \n",
       "3qJ588MifWAmC9wuJnG84B   96.031       100360    -7.109       0  \n",
       "11mwFrKvLXCbcVGNxffGyP  175.815       217573    -6.945       1  \n",
       "6ofEW2I0wej653KfYPP1mJ  104.758       232733   -22.422       0  \n",
       "5xDDEqO786YBj3tJDSR2Ms  105.744       252800    -5.533       1  \n",
       "7s49Um7G06hq2rulrHPsIy  132.970       176855    -5.073       1  \n",
       "7sLpSWxQazJzDVG6YGzlVs   89.554       234627    -4.297       1  \n",
       "5MiIyCJ1DYbWLdwWYzyNcJ  102.031       236507    -7.189       1  \n",
       "2k79z9A1dbdQ8gQG8M1Zz5  148.042       262440    -5.710       1  \n",
       "180jaPAbXwB4nvtieXteYf  162.246       235773    -4.724       1  \n",
       "1ZY1PqizIl78geGM4xWlEA   92.027       209680    -6.684       1  \n",
       "4eNg8rPjNB6MC97ZJg6HF3  188.916       200933    -5.346       1  \n",
       "4wzt5Rrk3W98pHXAqutuJw  120.318       311292   -10.841       1  \n",
       "4vaxvNDaLSoD36iZX515ug  120.012       187173    -9.194       1  \n",
       "22l3WmLzZsUAfNwrvyFVNj  153.815       163053    -9.032       0  \n",
       "39PVOORH2fs64VaPGGai5m  114.995       114640   -11.235       0  \n",
       "5MsZIaCYY6Tsdph0LiB0hE   90.013       203413    -3.713       1  \n",
       "5QJSD5GQOq72OmwLV5IHUV  103.668       248600    -7.456       1  \n",
       "7dcTSq2HC4kzvcWFcSfJy1  185.804       249387    -4.878       1  \n",
       "14I21BorF669AQcdhe2CSg  135.380       180480    -5.759       0  \n",
       "0QZ5yyl6B6utIWkxeBDxQN   86.997       208212    -9.510       1  \n",
       "1FHmZ3jNK06PgJhvZjdtMD  185.963       275533    -8.084       1  \n",
       "6wxwluMol35MvBMIej6NNl   91.051       247773    -5.333       1  \n",
       "1aFT33kWhjB58tCmncpK74  156.805       148123    -5.005       0  \n",
       "5TdCUrQdTWZoTSAZH7Pfup   99.690       153267    -8.953       0  \n",
       "7jOpLNcEzwwlzE1LMLPQu5  116.077       204973   -11.511       0  \n",
       "0WC05B34BCl3ue6NV0IdU7  136.988       349000    -6.789       0  "
      ]
     },
     "execution_count": 555,
     "metadata": {},
     "output_type": "execute_result"
    }
   ],
   "source": [
    "df_usable.tail(56)"
   ]
  },
  {
   "cell_type": "markdown",
   "metadata": {},
   "source": [
    "#### Separating features and target"
   ]
  },
  {
   "cell_type": "code",
   "execution_count": 556,
   "metadata": {},
   "outputs": [],
   "source": [
    "y = df_usable['is_hit']\n",
    "\n",
    "X = df_usable.drop('is_hit',axis=1)"
   ]
  },
  {
   "cell_type": "markdown",
   "metadata": {},
   "source": [
    "##### Checking target class weight"
   ]
  },
  {
   "cell_type": "code",
   "execution_count": 557,
   "metadata": {},
   "outputs": [
    {
     "data": {
      "text/plain": [
       "<AxesSubplot:>"
      ]
     },
     "execution_count": 557,
     "metadata": {},
     "output_type": "execute_result"
    },
    {
     "data": {
      "image/png": "[encoded data removed]",
      "text/plain": [
       "<Figure size 432x288 with 1 Axes>"
      ]
     },
     "metadata": {
      "needs_background": "light"
     },
     "output_type": "display_data"
    }
   ],
   "source": [
    "y.value_counts().plot(kind='bar')"
   ]
  },
  {
   "cell_type": "markdown",
   "metadata": {},
   "source": [
    "#### data is not imbalanced , so no stratification or up and down sampling is needed."
   ]
  },
  {
   "cell_type": "markdown",
   "metadata": {},
   "source": [
    "#### Standardizing features"
   ]
  },
  {
   "cell_type": "code",
   "execution_count": 558,
   "metadata": {},
   "outputs": [],
   "source": [
    "ss= StandardScaler()"
   ]
  },
  {
   "cell_type": "code",
   "execution_count": 559,
   "metadata": {},
   "outputs": [],
   "source": [
    "Xs = ss.fit_transform(X)\n",
    "\n",
    "Xs = pd.DataFrame(Xs,columns=X.columns)"
   ]
  },
  {
   "cell_type": "markdown",
   "metadata": {},
   "source": [
    "##### Train test split using 67:33 ratio of train and test data."
   ]
  },
  {
   "cell_type": "code",
   "execution_count": 560,
   "metadata": {},
   "outputs": [],
   "source": [
    "X_train, X_test, y_train, y_test = train_test_split(Xs, y, test_size=0.33, random_state=1)"
   ]
  },
  {
   "cell_type": "markdown",
   "metadata": {},
   "source": [
    "#### Checking dimensions of train and test data"
   ]
  },
  {
   "cell_type": "code",
   "execution_count": 561,
   "metadata": {},
   "outputs": [
    {
     "data": {
      "text/plain": [
       "((9735, 12), (4795, 12), (9735,), (4795,))"
      ]
     },
     "execution_count": 561,
     "metadata": {},
     "output_type": "execute_result"
    }
   ],
   "source": [
    "X_train.shape, X_test.shape, y_train.shape, y_test.shape"
   ]
  },
  {
   "cell_type": "markdown",
   "metadata": {},
   "source": [
    "**GDA (Gaussian Discriminant Analysis) is a general term for both LDA (Linear Discriminant Analysis)\n",
    " and QDA (Quadratic Discriminant Analysis) where the likelihood probability of each observation given the class,\n",
    "i.e., P(x|y) can be modeled by the multivariate Gaussian distribution.**"
   ]
  },
  {
   "cell_type": "markdown",
   "metadata": {},
   "source": [
    "##### Linear Discriminant Analysis with all features"
   ]
  },
  {
   "cell_type": "code",
   "execution_count": 562,
   "metadata": {},
   "outputs": [
    {
     "data": {
      "text/plain": [
       "LinearDiscriminantAnalysis()"
      ]
     },
     "execution_count": 562,
     "metadata": {},
     "output_type": "execute_result"
    }
   ],
   "source": [
    "from sklearn.discriminant_analysis import LinearDiscriminantAnalysis\n",
    "\n",
    "lda = LinearDiscriminantAnalysis()\n",
    "\n",
    "lda.fit(X_train, y_train)"
   ]
  },
  {
   "cell_type": "code",
   "execution_count": 563,
   "metadata": {},
   "outputs": [],
   "source": [
    "y_pred  = lda.predict(X_test)"
   ]
  },
  {
   "cell_type": "code",
   "execution_count": 564,
   "metadata": {},
   "outputs": [],
   "source": [
    "y_pred_prob = lda.predict_proba(X_test)[:,1]"
   ]
  },
  {
   "cell_type": "code",
   "execution_count": 565,
   "metadata": {},
   "outputs": [
    {
     "data": {
      "text/plain": [
       "array([0.4474274 , 0.34471593, 0.82969671, ..., 0.82454464, 0.85926449,\n",
       "       0.87413975])"
      ]
     },
     "execution_count": 565,
     "metadata": {},
     "output_type": "execute_result"
    }
   ],
   "source": [
    "y_pred_prob"
   ]
  },
  {
   "cell_type": "code",
   "execution_count": 566,
   "metadata": {},
   "outputs": [],
   "source": [
    "from sklearn.metrics import classification_report,accuracy_score,confusion_matrix,roc_auc_score"
   ]
  },
  {
   "cell_type": "code",
   "execution_count": 567,
   "metadata": {},
   "outputs": [
    {
     "name": "stdout",
     "output_type": "stream",
     "text": [
      "              precision    recall  f1-score   support\n",
      "\n",
      "           0       0.83      0.45      0.59      1747\n",
      "           1       0.75      0.95      0.84      3048\n",
      "\n",
      "    accuracy                           0.77      4795\n",
      "   macro avg       0.79      0.70      0.71      4795\n",
      "weighted avg       0.78      0.77      0.75      4795\n",
      "\n"
     ]
    }
   ],
   "source": [
    "print(classification_report(y_test,y_pred))"
   ]
  },
  {
   "cell_type": "code",
   "execution_count": 568,
   "metadata": {},
   "outputs": [
    {
     "data": {
      "text/plain": [
       "array([[ 792,  955],\n",
       "       [ 159, 2889]], dtype=int64)"
      ]
     },
     "execution_count": 568,
     "metadata": {},
     "output_type": "execute_result"
    }
   ],
   "source": [
    "cm = confusion_matrix(y_test,y_pred)\n",
    "cm"
   ]
  },
  {
   "cell_type": "code",
   "execution_count": 569,
   "metadata": {},
   "outputs": [
    {
     "data": {
      "image/png": "[encoded data removed]",
      "text/plain": [
       "<Figure size 432x288 with 2 Axes>"
      ]
     },
     "metadata": {
      "needs_background": "light"
     },
     "output_type": "display_data"
    }
   ],
   "source": [
    "sns.heatmap(cm,annot=True,fmt='d',cmap='Accent')\n",
    "plt.xlabel('Predicted labels')\n",
    "plt.ylabel('Actual labels')\n",
    "plt.xticks(ticks=[0,1],labels=['non_hit','hit'])\n",
    "plt.yticks(ticks=[0,1],labels=['non_hit','hit'])\n",
    "plt.show()"
   ]
  },
  {
   "cell_type": "code",
   "execution_count": 570,
   "metadata": {},
   "outputs": [
    {
     "data": {
      "text/plain": [
       "0.767674661105318"
      ]
     },
     "execution_count": 570,
     "metadata": {},
     "output_type": "execute_result"
    }
   ],
   "source": [
    "as1 = accuracy_score(y_test,y_pred)\n",
    "as1"
   ]
  },
  {
   "cell_type": "code",
   "execution_count": 571,
   "metadata": {},
   "outputs": [
    {
     "data": {
      "text/plain": [
       "0.7925243424423121"
      ]
     },
     "execution_count": 571,
     "metadata": {},
     "output_type": "execute_result"
    }
   ],
   "source": [
    "rs1 = roc_auc_score(y_test,y_pred_prob)\n",
    "rs1"
   ]
  },
  {
   "cell_type": "markdown",
   "metadata": {},
   "source": [
    "##### Quadratic Discriminant Analysis with all features"
   ]
  },
  {
   "cell_type": "code",
   "execution_count": 572,
   "metadata": {},
   "outputs": [
    {
     "data": {
      "text/plain": [
       "QuadraticDiscriminantAnalysis()"
      ]
     },
     "execution_count": 572,
     "metadata": {},
     "output_type": "execute_result"
    }
   ],
   "source": [
    "from sklearn.discriminant_analysis import QuadraticDiscriminantAnalysis\n",
    "\n",
    "qda = QuadraticDiscriminantAnalysis()\n",
    "\n",
    "qda.fit(X_train, y_train)"
   ]
  },
  {
   "cell_type": "code",
   "execution_count": 573,
   "metadata": {},
   "outputs": [],
   "source": [
    "y_pred  = qda.predict(X_test)"
   ]
  },
  {
   "cell_type": "code",
   "execution_count": 574,
   "metadata": {},
   "outputs": [],
   "source": [
    "y_pred_prob = qda.predict_proba(X_test)[:,1]"
   ]
  },
  {
   "cell_type": "code",
   "execution_count": 575,
   "metadata": {},
   "outputs": [
    {
     "data": {
      "text/plain": [
       "array([0.1116889 , 0.20083369, 0.99206077, ..., 0.95262773, 0.97915294,\n",
       "       0.97266957])"
      ]
     },
     "execution_count": 575,
     "metadata": {},
     "output_type": "execute_result"
    }
   ],
   "source": [
    "y_pred_prob"
   ]
  },
  {
   "cell_type": "code",
   "execution_count": 576,
   "metadata": {},
   "outputs": [],
   "source": [
    "from sklearn.metrics import classification_report,accuracy_score,confusion_matrix,roc_auc_score"
   ]
  },
  {
   "cell_type": "code",
   "execution_count": 577,
   "metadata": {},
   "outputs": [
    {
     "name": "stdout",
     "output_type": "stream",
     "text": [
      "              precision    recall  f1-score   support\n",
      "\n",
      "           0       0.80      0.51      0.62      1747\n",
      "           1       0.77      0.93      0.84      3048\n",
      "\n",
      "    accuracy                           0.78      4795\n",
      "   macro avg       0.78      0.72      0.73      4795\n",
      "weighted avg       0.78      0.78      0.76      4795\n",
      "\n"
     ]
    }
   ],
   "source": [
    "print(classification_report(y_test,y_pred))"
   ]
  },
  {
   "cell_type": "code",
   "execution_count": 578,
   "metadata": {},
   "outputs": [
    {
     "data": {
      "text/plain": [
       "array([[ 889,  858],\n",
       "       [ 220, 2828]], dtype=int64)"
      ]
     },
     "execution_count": 578,
     "metadata": {},
     "output_type": "execute_result"
    }
   ],
   "source": [
    "cm = confusion_matrix(y_test,y_pred)\n",
    "cm"
   ]
  },
  {
   "cell_type": "code",
   "execution_count": 579,
   "metadata": {},
   "outputs": [
    {
     "data": {
      "image/png": "[encoded data removed]",
      "text/plain": [
       "<Figure size 432x288 with 2 Axes>"
      ]
     },
     "metadata": {
      "needs_background": "light"
     },
     "output_type": "display_data"
    }
   ],
   "source": [
    "sns.heatmap(cm,annot=True,fmt='d',cmap='Accent')\n",
    "plt.xlabel('Predicted labels')\n",
    "plt.ylabel('Actual labels')\n",
    "plt.xticks(ticks=[0,1],labels=['non_hit','hit'])\n",
    "plt.yticks(ticks=[0,1],labels=['non_hit','hit'])\n",
    "plt.show()"
   ]
  },
  {
   "cell_type": "code",
   "execution_count": 580,
   "metadata": {},
   "outputs": [
    {
     "data": {
      "text/plain": [
       "0.7751824817518248"
      ]
     },
     "execution_count": 580,
     "metadata": {},
     "output_type": "execute_result"
    }
   ],
   "source": [
    "as2 = accuracy_score(y_test,y_pred)\n",
    "as2"
   ]
  },
  {
   "cell_type": "code",
   "execution_count": 581,
   "metadata": {},
   "outputs": [
    {
     "data": {
      "text/plain": [
       "0.8074160127522698"
      ]
     },
     "execution_count": 581,
     "metadata": {},
     "output_type": "execute_result"
    }
   ],
   "source": [
    "rs2 = roc_auc_score(y_test,y_pred_prob)\n",
    "rs2"
   ]
  },
  {
   "cell_type": "markdown",
   "metadata": {},
   "source": [
    "##### Checking Permutation importance for both lda and qda (Feature Selection)"
   ]
  },
  {
   "cell_type": "code",
   "execution_count": 582,
   "metadata": {},
   "outputs": [
    {
     "data": {
      "text/html": [
       "\n",
       "    <style>\n",
       "    table.eli5-weights tr:hover {\n",
       "        filter: brightness(85%);\n",
       "    }\n",
       "</style>\n",
       "\n",
       "\n",
       "\n",
       "    \n",
       "\n",
       "    \n",
       "\n",
       "    \n",
       "\n",
       "    \n",
       "\n",
       "    \n",
       "\n",
       "    \n",
       "\n",
       "\n",
       "    \n",
       "\n",
       "    \n",
       "\n",
       "    \n",
       "\n",
       "    \n",
       "\n",
       "    \n",
       "\n",
       "    \n",
       "\n",
       "\n",
       "    \n",
       "\n",
       "    \n",
       "\n",
       "    \n",
       "\n",
       "    \n",
       "\n",
       "    \n",
       "        <table class=\"eli5-weights eli5-feature-importances\" style=\"border-collapse: collapse; border: none; margin-top: 0em; table-layout: auto;\">\n",
       "    <thead>\n",
       "    <tr style=\"border: none;\">\n",
       "        <th style=\"padding: 0 1em 0 0.5em; text-align: right; border: none;\">Weight</th>\n",
       "        <th style=\"padding: 0 0.5em 0 0.5em; text-align: left; border: none;\">Feature</th>\n",
       "    </tr>\n",
       "    </thead>\n",
       "    <tbody>\n",
       "    \n",
       "        <tr style=\"background-color: hsl(120, 100.00%, 80.00%); border: none;\">\n",
       "            <td style=\"padding: 0 1em 0 0.5em; text-align: right; border: none;\">\n",
       "                0.0734\n",
       "                \n",
       "                    &plusmn; 0.0026\n",
       "                \n",
       "            </td>\n",
       "            <td style=\"padding: 0 0.5em 0 0.5em; text-align: left; border: none;\">\n",
       "                instrumentalness\n",
       "            </td>\n",
       "        </tr>\n",
       "    \n",
       "        <tr style=\"background-color: hsl(120, 100.00%, 86.40%); border: none;\">\n",
       "            <td style=\"padding: 0 1em 0 0.5em; text-align: right; border: none;\">\n",
       "                0.0423\n",
       "                \n",
       "                    &plusmn; 0.0038\n",
       "                \n",
       "            </td>\n",
       "            <td style=\"padding: 0 0.5em 0 0.5em; text-align: left; border: none;\">\n",
       "                loudness\n",
       "            </td>\n",
       "        </tr>\n",
       "    \n",
       "        <tr style=\"background-color: hsl(120, 100.00%, 86.75%); border: none;\">\n",
       "            <td style=\"padding: 0 1em 0 0.5em; text-align: right; border: none;\">\n",
       "                0.0408\n",
       "                \n",
       "                    &plusmn; 0.0038\n",
       "                \n",
       "            </td>\n",
       "            <td style=\"padding: 0 0.5em 0 0.5em; text-align: left; border: none;\">\n",
       "                acousticness\n",
       "            </td>\n",
       "        </tr>\n",
       "    \n",
       "        <tr style=\"background-color: hsl(120, 100.00%, 87.97%); border: none;\">\n",
       "            <td style=\"padding: 0 1em 0 0.5em; text-align: right; border: none;\">\n",
       "                0.0355\n",
       "                \n",
       "                    &plusmn; 0.0058\n",
       "                \n",
       "            </td>\n",
       "            <td style=\"padding: 0 0.5em 0 0.5em; text-align: left; border: none;\">\n",
       "                danceability\n",
       "            </td>\n",
       "        </tr>\n",
       "    \n",
       "        <tr style=\"background-color: hsl(120, 100.00%, 93.38%); border: none;\">\n",
       "            <td style=\"padding: 0 1em 0 0.5em; text-align: right; border: none;\">\n",
       "                0.0151\n",
       "                \n",
       "                    &plusmn; 0.0056\n",
       "                \n",
       "            </td>\n",
       "            <td style=\"padding: 0 0.5em 0 0.5em; text-align: left; border: none;\">\n",
       "                valence\n",
       "            </td>\n",
       "        </tr>\n",
       "    \n",
       "        <tr style=\"background-color: hsl(120, 100.00%, 97.15%); border: none;\">\n",
       "            <td style=\"padding: 0 1em 0 0.5em; text-align: right; border: none;\">\n",
       "                0.0045\n",
       "                \n",
       "                    &plusmn; 0.0021\n",
       "                \n",
       "            </td>\n",
       "            <td style=\"padding: 0 0.5em 0 0.5em; text-align: left; border: none;\">\n",
       "                liveness\n",
       "            </td>\n",
       "        </tr>\n",
       "    \n",
       "        <tr style=\"background-color: hsl(120, 100.00%, 98.12%); border: none;\">\n",
       "            <td style=\"padding: 0 1em 0 0.5em; text-align: right; border: none;\">\n",
       "                0.0025\n",
       "                \n",
       "                    &plusmn; 0.0030\n",
       "                \n",
       "            </td>\n",
       "            <td style=\"padding: 0 0.5em 0 0.5em; text-align: left; border: none;\">\n",
       "                duration_ms\n",
       "            </td>\n",
       "        </tr>\n",
       "    \n",
       "        <tr style=\"background-color: hsl(120, 100.00%, 99.16%); border: none;\">\n",
       "            <td style=\"padding: 0 1em 0 0.5em; text-align: right; border: none;\">\n",
       "                0.0008\n",
       "                \n",
       "                    &plusmn; 0.0011\n",
       "                \n",
       "            </td>\n",
       "            <td style=\"padding: 0 0.5em 0 0.5em; text-align: left; border: none;\">\n",
       "                tempo\n",
       "            </td>\n",
       "        </tr>\n",
       "    \n",
       "        <tr style=\"background-color: hsl(120, 100.00%, 99.67%); border: none;\">\n",
       "            <td style=\"padding: 0 1em 0 0.5em; text-align: right; border: none;\">\n",
       "                0.0002\n",
       "                \n",
       "                    &plusmn; 0.0006\n",
       "                \n",
       "            </td>\n",
       "            <td style=\"padding: 0 0.5em 0 0.5em; text-align: left; border: none;\">\n",
       "                key\n",
       "            </td>\n",
       "        </tr>\n",
       "    \n",
       "        <tr style=\"background-color: hsl(120, 100.00%, 99.67%); border: none;\">\n",
       "            <td style=\"padding: 0 1em 0 0.5em; text-align: right; border: none;\">\n",
       "                0.0002\n",
       "                \n",
       "                    &plusmn; 0.0027\n",
       "                \n",
       "            </td>\n",
       "            <td style=\"padding: 0 0.5em 0 0.5em; text-align: left; border: none;\">\n",
       "                energy\n",
       "            </td>\n",
       "        </tr>\n",
       "    \n",
       "        <tr style=\"background-color: hsl(0, 100.00%, 99.39%); border: none;\">\n",
       "            <td style=\"padding: 0 1em 0 0.5em; text-align: right; border: none;\">\n",
       "                -0.0005\n",
       "                \n",
       "                    &plusmn; 0.0004\n",
       "                \n",
       "            </td>\n",
       "            <td style=\"padding: 0 0.5em 0 0.5em; text-align: left; border: none;\">\n",
       "                mode\n",
       "            </td>\n",
       "        </tr>\n",
       "    \n",
       "        <tr style=\"background-color: hsl(0, 100.00%, 98.90%); border: none;\">\n",
       "            <td style=\"padding: 0 1em 0 0.5em; text-align: right; border: none;\">\n",
       "                -0.0012\n",
       "                \n",
       "                    &plusmn; 0.0032\n",
       "                \n",
       "            </td>\n",
       "            <td style=\"padding: 0 0.5em 0 0.5em; text-align: left; border: none;\">\n",
       "                speechiness\n",
       "            </td>\n",
       "        </tr>\n",
       "    \n",
       "    \n",
       "    </tbody>\n",
       "</table>\n",
       "    \n",
       "\n",
       "    \n",
       "\n",
       "\n",
       "    \n",
       "\n",
       "    \n",
       "\n",
       "    \n",
       "\n",
       "    \n",
       "\n",
       "    \n",
       "\n",
       "    \n",
       "\n",
       "\n",
       "\n"
      ],
      "text/plain": [
       "<IPython.core.display.HTML object>"
      ]
     },
     "execution_count": 582,
     "metadata": {},
     "output_type": "execute_result"
    }
   ],
   "source": [
    "import eli5\n",
    "from eli5.sklearn import PermutationImportance\n",
    "\n",
    "perm1 = PermutationImportance(lda, random_state=1).fit(X_test, y_test)\n",
    "eli5.show_weights(perm1, feature_names = X_test.columns.tolist())"
   ]
  },
  {
   "cell_type": "code",
   "execution_count": 583,
   "metadata": {},
   "outputs": [
    {
     "data": {
      "text/html": [
       "\n",
       "    <style>\n",
       "    table.eli5-weights tr:hover {\n",
       "        filter: brightness(85%);\n",
       "    }\n",
       "</style>\n",
       "\n",
       "\n",
       "\n",
       "    \n",
       "\n",
       "    \n",
       "\n",
       "    \n",
       "\n",
       "    \n",
       "\n",
       "    \n",
       "\n",
       "    \n",
       "\n",
       "\n",
       "    \n",
       "\n",
       "    \n",
       "\n",
       "    \n",
       "\n",
       "    \n",
       "\n",
       "    \n",
       "\n",
       "    \n",
       "\n",
       "\n",
       "    \n",
       "\n",
       "    \n",
       "\n",
       "    \n",
       "\n",
       "    \n",
       "\n",
       "    \n",
       "        <table class=\"eli5-weights eli5-feature-importances\" style=\"border-collapse: collapse; border: none; margin-top: 0em; table-layout: auto;\">\n",
       "    <thead>\n",
       "    <tr style=\"border: none;\">\n",
       "        <th style=\"padding: 0 1em 0 0.5em; text-align: right; border: none;\">Weight</th>\n",
       "        <th style=\"padding: 0 0.5em 0 0.5em; text-align: left; border: none;\">Feature</th>\n",
       "    </tr>\n",
       "    </thead>\n",
       "    <tbody>\n",
       "    \n",
       "        <tr style=\"background-color: hsl(120, 100.00%, 80.00%); border: none;\">\n",
       "            <td style=\"padding: 0 1em 0 0.5em; text-align: right; border: none;\">\n",
       "                0.0669\n",
       "                \n",
       "                    &plusmn; 0.0046\n",
       "                \n",
       "            </td>\n",
       "            <td style=\"padding: 0 0.5em 0 0.5em; text-align: left; border: none;\">\n",
       "                instrumentalness\n",
       "            </td>\n",
       "        </tr>\n",
       "    \n",
       "        <tr style=\"background-color: hsl(120, 100.00%, 84.90%); border: none;\">\n",
       "            <td style=\"padding: 0 1em 0 0.5em; text-align: right; border: none;\">\n",
       "                0.0448\n",
       "                \n",
       "                    &plusmn; 0.0077\n",
       "                \n",
       "            </td>\n",
       "            <td style=\"padding: 0 0.5em 0 0.5em; text-align: left; border: none;\">\n",
       "                acousticness\n",
       "            </td>\n",
       "        </tr>\n",
       "    \n",
       "        <tr style=\"background-color: hsl(120, 100.00%, 86.80%); border: none;\">\n",
       "            <td style=\"padding: 0 1em 0 0.5em; text-align: right; border: none;\">\n",
       "                0.0370\n",
       "                \n",
       "                    &plusmn; 0.0021\n",
       "                \n",
       "            </td>\n",
       "            <td style=\"padding: 0 0.5em 0 0.5em; text-align: left; border: none;\">\n",
       "                loudness\n",
       "            </td>\n",
       "        </tr>\n",
       "    \n",
       "        <tr style=\"background-color: hsl(120, 100.00%, 88.66%); border: none;\">\n",
       "            <td style=\"padding: 0 1em 0 0.5em; text-align: right; border: none;\">\n",
       "                0.0297\n",
       "                \n",
       "                    &plusmn; 0.0043\n",
       "                \n",
       "            </td>\n",
       "            <td style=\"padding: 0 0.5em 0 0.5em; text-align: left; border: none;\">\n",
       "                energy\n",
       "            </td>\n",
       "        </tr>\n",
       "    \n",
       "        <tr style=\"background-color: hsl(120, 100.00%, 89.03%); border: none;\">\n",
       "            <td style=\"padding: 0 1em 0 0.5em; text-align: right; border: none;\">\n",
       "                0.0284\n",
       "                \n",
       "                    &plusmn; 0.0033\n",
       "                \n",
       "            </td>\n",
       "            <td style=\"padding: 0 0.5em 0 0.5em; text-align: left; border: none;\">\n",
       "                duration_ms\n",
       "            </td>\n",
       "        </tr>\n",
       "    \n",
       "        <tr style=\"background-color: hsl(120, 100.00%, 93.67%); border: none;\">\n",
       "            <td style=\"padding: 0 1em 0 0.5em; text-align: right; border: none;\">\n",
       "                0.0129\n",
       "                \n",
       "                    &plusmn; 0.0017\n",
       "                \n",
       "            </td>\n",
       "            <td style=\"padding: 0 0.5em 0 0.5em; text-align: left; border: none;\">\n",
       "                danceability\n",
       "            </td>\n",
       "        </tr>\n",
       "    \n",
       "        <tr style=\"background-color: hsl(120, 100.00%, 94.74%); border: none;\">\n",
       "            <td style=\"padding: 0 1em 0 0.5em; text-align: right; border: none;\">\n",
       "                0.0099\n",
       "                \n",
       "                    &plusmn; 0.0041\n",
       "                \n",
       "            </td>\n",
       "            <td style=\"padding: 0 0.5em 0 0.5em; text-align: left; border: none;\">\n",
       "                valence\n",
       "            </td>\n",
       "        </tr>\n",
       "    \n",
       "        <tr style=\"background-color: hsl(120, 100.00%, 94.91%); border: none;\">\n",
       "            <td style=\"padding: 0 1em 0 0.5em; text-align: right; border: none;\">\n",
       "                0.0095\n",
       "                \n",
       "                    &plusmn; 0.0029\n",
       "                \n",
       "            </td>\n",
       "            <td style=\"padding: 0 0.5em 0 0.5em; text-align: left; border: none;\">\n",
       "                liveness\n",
       "            </td>\n",
       "        </tr>\n",
       "    \n",
       "        <tr style=\"background-color: hsl(120, 100.00%, 98.57%); border: none;\">\n",
       "            <td style=\"padding: 0 1em 0 0.5em; text-align: right; border: none;\">\n",
       "                0.0015\n",
       "                \n",
       "                    &plusmn; 0.0006\n",
       "                \n",
       "            </td>\n",
       "            <td style=\"padding: 0 0.5em 0 0.5em; text-align: left; border: none;\">\n",
       "                key\n",
       "            </td>\n",
       "        </tr>\n",
       "    \n",
       "        <tr style=\"background-color: hsl(120, 100.00%, 99.43%); border: none;\">\n",
       "            <td style=\"padding: 0 1em 0 0.5em; text-align: right; border: none;\">\n",
       "                0.0004\n",
       "                \n",
       "                    &plusmn; 0.0034\n",
       "                \n",
       "            </td>\n",
       "            <td style=\"padding: 0 0.5em 0 0.5em; text-align: left; border: none;\">\n",
       "                speechiness\n",
       "            </td>\n",
       "        </tr>\n",
       "    \n",
       "        <tr style=\"background-color: hsl(120, 100.00%, 99.65%); border: none;\">\n",
       "            <td style=\"padding: 0 1em 0 0.5em; text-align: right; border: none;\">\n",
       "                0.0002\n",
       "                \n",
       "                    &plusmn; 0.0010\n",
       "                \n",
       "            </td>\n",
       "            <td style=\"padding: 0 0.5em 0 0.5em; text-align: left; border: none;\">\n",
       "                mode\n",
       "            </td>\n",
       "        </tr>\n",
       "    \n",
       "        <tr style=\"background-color: hsl(0, 100.00%, 98.34%); border: none;\">\n",
       "            <td style=\"padding: 0 1em 0 0.5em; text-align: right; border: none;\">\n",
       "                -0.0019\n",
       "                \n",
       "                    &plusmn; 0.0009\n",
       "                \n",
       "            </td>\n",
       "            <td style=\"padding: 0 0.5em 0 0.5em; text-align: left; border: none;\">\n",
       "                tempo\n",
       "            </td>\n",
       "        </tr>\n",
       "    \n",
       "    \n",
       "    </tbody>\n",
       "</table>\n",
       "    \n",
       "\n",
       "    \n",
       "\n",
       "\n",
       "    \n",
       "\n",
       "    \n",
       "\n",
       "    \n",
       "\n",
       "    \n",
       "\n",
       "    \n",
       "\n",
       "    \n",
       "\n",
       "\n",
       "\n"
      ],
      "text/plain": [
       "<IPython.core.display.HTML object>"
      ]
     },
     "execution_count": 583,
     "metadata": {},
     "output_type": "execute_result"
    }
   ],
   "source": [
    "import eli5\n",
    "from eli5.sklearn import PermutationImportance\n",
    "\n",
    "perm2 = PermutationImportance(qda, random_state=1).fit(X_test, y_test)\n",
    "eli5.show_weights(perm2, feature_names = X_test.columns.tolist())"
   ]
  },
  {
   "cell_type": "code",
   "execution_count": 584,
   "metadata": {},
   "outputs": [],
   "source": [
    "lda_feat = ['instrumentalness','loudness','acousticness','danceability','valence']\n",
    "qda_feat = ['instrumentalness','acousticness','loudness','energy','duration_ms','valence','danceability','liveness']\n"
   ]
  },
  {
   "cell_type": "code",
   "execution_count": null,
   "metadata": {},
   "outputs": [],
   "source": []
  },
  {
   "cell_type": "markdown",
   "metadata": {},
   "source": [
    "##### Linear Discriminant Analysis with important features"
   ]
  },
  {
   "cell_type": "code",
   "execution_count": 585,
   "metadata": {},
   "outputs": [
    {
     "data": {
      "text/plain": [
       "LinearDiscriminantAnalysis()"
      ]
     },
     "execution_count": 585,
     "metadata": {},
     "output_type": "execute_result"
    }
   ],
   "source": [
    "from sklearn.discriminant_analysis import LinearDiscriminantAnalysis\n",
    "\n",
    "lda = LinearDiscriminantAnalysis()\n",
    "\n",
    "lda.fit(X_train[lda_feat], y_train)"
   ]
  },
  {
   "cell_type": "code",
   "execution_count": 586,
   "metadata": {},
   "outputs": [],
   "source": [
    "y_pred  = lda.predict(X_test[lda_feat])"
   ]
  },
  {
   "cell_type": "code",
   "execution_count": 587,
   "metadata": {},
   "outputs": [],
   "source": [
    "y_pred_prob = lda.predict_proba(X_test[lda_feat])[:,1]"
   ]
  },
  {
   "cell_type": "code",
   "execution_count": 588,
   "metadata": {},
   "outputs": [
    {
     "data": {
      "text/plain": [
       "array([0.46010388, 0.35874696, 0.79131417, ..., 0.86931273, 0.84939909,\n",
       "       0.9190796 ])"
      ]
     },
     "execution_count": 588,
     "metadata": {},
     "output_type": "execute_result"
    }
   ],
   "source": [
    "y_pred_prob"
   ]
  },
  {
   "cell_type": "code",
   "execution_count": 589,
   "metadata": {},
   "outputs": [],
   "source": [
    "from sklearn.metrics import classification_report,accuracy_score,confusion_matrix,roc_auc_score"
   ]
  },
  {
   "cell_type": "code",
   "execution_count": 590,
   "metadata": {},
   "outputs": [
    {
     "name": "stdout",
     "output_type": "stream",
     "text": [
      "              precision    recall  f1-score   support\n",
      "\n",
      "           0       0.83      0.44      0.58      1747\n",
      "           1       0.75      0.95      0.84      3048\n",
      "\n",
      "    accuracy                           0.76      4795\n",
      "   macro avg       0.79      0.70      0.71      4795\n",
      "weighted avg       0.78      0.76      0.74      4795\n",
      "\n"
     ]
    }
   ],
   "source": [
    "print(classification_report(y_test,y_pred))"
   ]
  },
  {
   "cell_type": "code",
   "execution_count": 591,
   "metadata": {},
   "outputs": [
    {
     "data": {
      "text/plain": [
       "array([[ 775,  972],\n",
       "       [ 158, 2890]], dtype=int64)"
      ]
     },
     "execution_count": 591,
     "metadata": {},
     "output_type": "execute_result"
    }
   ],
   "source": [
    "cm = confusion_matrix(y_test,y_pred)\n",
    "cm"
   ]
  },
  {
   "cell_type": "code",
   "execution_count": 592,
   "metadata": {},
   "outputs": [
    {
     "data": {
      "image/png": "[encoded data removed]",
      "text/plain": [
       "<Figure size 432x288 with 2 Axes>"
      ]
     },
     "metadata": {
      "needs_background": "light"
     },
     "output_type": "display_data"
    }
   ],
   "source": [
    "sns.heatmap(cm,annot=True,fmt='d',cmap='Accent')\n",
    "plt.xlabel('Predicted labels')\n",
    "plt.ylabel('Actual labels')\n",
    "plt.xticks(ticks=[0,1],labels=['non_hit','hit'])\n",
    "plt.yticks(ticks=[0,1],labels=['non_hit','hit'])\n",
    "plt.show()"
   ]
  },
  {
   "cell_type": "code",
   "execution_count": 593,
   "metadata": {},
   "outputs": [
    {
     "data": {
      "text/plain": [
       "0.7643378519290928"
      ]
     },
     "execution_count": 593,
     "metadata": {},
     "output_type": "execute_result"
    }
   ],
   "source": [
    "as3 = accuracy_score(y_test,y_pred)\n",
    "as3"
   ]
  },
  {
   "cell_type": "code",
   "execution_count": 594,
   "metadata": {},
   "outputs": [
    {
     "data": {
      "text/plain": [
       "0.783975003267694"
      ]
     },
     "execution_count": 594,
     "metadata": {},
     "output_type": "execute_result"
    }
   ],
   "source": [
    "rs3 = roc_auc_score(y_test,y_pred_prob)\n",
    "rs3"
   ]
  },
  {
   "cell_type": "code",
   "execution_count": null,
   "metadata": {},
   "outputs": [],
   "source": []
  },
  {
   "cell_type": "markdown",
   "metadata": {},
   "source": [
    "##### Quadratic Discriminant Analysis with important features"
   ]
  },
  {
   "cell_type": "code",
   "execution_count": 595,
   "metadata": {},
   "outputs": [
    {
     "data": {
      "text/plain": [
       "QuadraticDiscriminantAnalysis()"
      ]
     },
     "execution_count": 595,
     "metadata": {},
     "output_type": "execute_result"
    }
   ],
   "source": [
    "from sklearn.discriminant_analysis import QuadraticDiscriminantAnalysis\n",
    "\n",
    "qda = QuadraticDiscriminantAnalysis()\n",
    "\n",
    "qda.fit(X_train[qda_feat], y_train)"
   ]
  },
  {
   "cell_type": "code",
   "execution_count": 596,
   "metadata": {},
   "outputs": [
    {
     "data": {
      "text/html": [
       "<div>\n",
       "<style scoped>\n",
       "    .dataframe tbody tr th:only-of-type {\n",
       "        vertical-align: middle;\n",
       "    }\n",
       "\n",
       "    .dataframe tbody tr th {\n",
       "        vertical-align: top;\n",
       "    }\n",
       "\n",
       "    .dataframe thead th {\n",
       "        text-align: right;\n",
       "    }\n",
       "</style>\n",
       "<table border=\"1\" class=\"dataframe\">\n",
       "  <thead>\n",
       "    <tr style=\"text-align: right;\">\n",
       "      <th></th>\n",
       "      <th>instrumentalness</th>\n",
       "      <th>acousticness</th>\n",
       "      <th>loudness</th>\n",
       "      <th>energy</th>\n",
       "      <th>duration_ms</th>\n",
       "      <th>valence</th>\n",
       "      <th>danceability</th>\n",
       "      <th>liveness</th>\n",
       "    </tr>\n",
       "  </thead>\n",
       "  <tbody>\n",
       "    <tr>\n",
       "      <th>4465</th>\n",
       "      <td>-0.354654</td>\n",
       "      <td>-0.820921</td>\n",
       "      <td>1.019403</td>\n",
       "      <td>1.346725</td>\n",
       "      <td>0.540929</td>\n",
       "      <td>-0.631497</td>\n",
       "      <td>0.022882</td>\n",
       "      <td>-0.540537</td>\n",
       "    </tr>\n",
       "    <tr>\n",
       "      <th>8772</th>\n",
       "      <td>-0.354685</td>\n",
       "      <td>-0.611377</td>\n",
       "      <td>0.167497</td>\n",
       "      <td>0.630738</td>\n",
       "      <td>-0.008178</td>\n",
       "      <td>1.461530</td>\n",
       "      <td>0.874242</td>\n",
       "      <td>-0.656667</td>\n",
       "    </tr>\n",
       "    <tr>\n",
       "      <th>11794</th>\n",
       "      <td>-0.354685</td>\n",
       "      <td>-0.591799</td>\n",
       "      <td>-0.091024</td>\n",
       "      <td>0.193708</td>\n",
       "      <td>-0.138051</td>\n",
       "      <td>1.293596</td>\n",
       "      <td>0.742341</td>\n",
       "      <td>-0.589465</td>\n",
       "    </tr>\n",
       "    <tr>\n",
       "      <th>9326</th>\n",
       "      <td>-0.353448</td>\n",
       "      <td>-0.455110</td>\n",
       "      <td>0.791369</td>\n",
       "      <td>1.165404</td>\n",
       "      <td>1.035257</td>\n",
       "      <td>-0.287438</td>\n",
       "      <td>-1.344090</td>\n",
       "      <td>-0.375478</td>\n",
       "    </tr>\n",
       "    <tr>\n",
       "      <th>6184</th>\n",
       "      <td>-0.354685</td>\n",
       "      <td>-0.773696</td>\n",
       "      <td>1.150275</td>\n",
       "      <td>1.146807</td>\n",
       "      <td>-0.289954</td>\n",
       "      <td>0.597286</td>\n",
       "      <td>0.952183</td>\n",
       "      <td>-0.741555</td>\n",
       "    </tr>\n",
       "    <tr>\n",
       "      <th>...</th>\n",
       "      <td>...</td>\n",
       "      <td>...</td>\n",
       "      <td>...</td>\n",
       "      <td>...</td>\n",
       "      <td>...</td>\n",
       "      <td>...</td>\n",
       "      <td>...</td>\n",
       "      <td>...</td>\n",
       "    </tr>\n",
       "    <tr>\n",
       "      <th>905</th>\n",
       "      <td>-0.352311</td>\n",
       "      <td>-0.316285</td>\n",
       "      <td>-0.109118</td>\n",
       "      <td>0.375029</td>\n",
       "      <td>-0.262054</td>\n",
       "      <td>-0.303822</td>\n",
       "      <td>-0.726554</td>\n",
       "      <td>-0.540537</td>\n",
       "    </tr>\n",
       "    <tr>\n",
       "      <th>5192</th>\n",
       "      <td>-0.354090</td>\n",
       "      <td>1.335378</td>\n",
       "      <td>-0.036742</td>\n",
       "      <td>-0.898870</td>\n",
       "      <td>0.459934</td>\n",
       "      <td>-1.508029</td>\n",
       "      <td>-1.068298</td>\n",
       "      <td>0.467499</td>\n",
       "    </tr>\n",
       "    <tr>\n",
       "      <th>12172</th>\n",
       "      <td>0.078810</td>\n",
       "      <td>-0.740947</td>\n",
       "      <td>0.583163</td>\n",
       "      <td>1.039874</td>\n",
       "      <td>-0.309593</td>\n",
       "      <td>-0.713416</td>\n",
       "      <td>-0.906419</td>\n",
       "      <td>-0.552327</td>\n",
       "    </tr>\n",
       "    <tr>\n",
       "      <th>235</th>\n",
       "      <td>-0.351903</td>\n",
       "      <td>-0.394597</td>\n",
       "      <td>-0.839571</td>\n",
       "      <td>-0.940713</td>\n",
       "      <td>-0.302339</td>\n",
       "      <td>1.285404</td>\n",
       "      <td>0.190756</td>\n",
       "      <td>-0.749218</td>\n",
       "    </tr>\n",
       "    <tr>\n",
       "      <th>13349</th>\n",
       "      <td>-0.350888</td>\n",
       "      <td>0.107309</td>\n",
       "      <td>0.274078</td>\n",
       "      <td>-0.187532</td>\n",
       "      <td>-0.186723</td>\n",
       "      <td>-1.217217</td>\n",
       "      <td>-1.134248</td>\n",
       "      <td>-0.387268</td>\n",
       "    </tr>\n",
       "  </tbody>\n",
       "</table>\n",
       "<p>9735 rows × 8 columns</p>\n",
       "</div>"
      ],
      "text/plain": [
       "       instrumentalness  acousticness  loudness    energy  duration_ms  \\\n",
       "4465          -0.354654     -0.820921  1.019403  1.346725     0.540929   \n",
       "8772          -0.354685     -0.611377  0.167497  0.630738    -0.008178   \n",
       "11794         -0.354685     -0.591799 -0.091024  0.193708    -0.138051   \n",
       "9326          -0.353448     -0.455110  0.791369  1.165404     1.035257   \n",
       "6184          -0.354685     -0.773696  1.150275  1.146807    -0.289954   \n",
       "...                 ...           ...       ...       ...          ...   \n",
       "905           -0.352311     -0.316285 -0.109118  0.375029    -0.262054   \n",
       "5192          -0.354090      1.335378 -0.036742 -0.898870     0.459934   \n",
       "12172          0.078810     -0.740947  0.583163  1.039874    -0.309593   \n",
       "235           -0.351903     -0.394597 -0.839571 -0.940713    -0.302339   \n",
       "13349         -0.350888      0.107309  0.274078 -0.187532    -0.186723   \n",
       "\n",
       "        valence  danceability  liveness  \n",
       "4465  -0.631497      0.022882 -0.540537  \n",
       "8772   1.461530      0.874242 -0.656667  \n",
       "11794  1.293596      0.742341 -0.589465  \n",
       "9326  -0.287438     -1.344090 -0.375478  \n",
       "6184   0.597286      0.952183 -0.741555  \n",
       "...         ...           ...       ...  \n",
       "905   -0.303822     -0.726554 -0.540537  \n",
       "5192  -1.508029     -1.068298  0.467499  \n",
       "12172 -0.713416     -0.906419 -0.552327  \n",
       "235    1.285404      0.190756 -0.749218  \n",
       "13349 -1.217217     -1.134248 -0.387268  \n",
       "\n",
       "[9735 rows x 8 columns]"
      ]
     },
     "execution_count": 596,
     "metadata": {},
     "output_type": "execute_result"
    }
   ],
   "source": [
    "X_train[qda_feat]"
   ]
  },
  {
   "cell_type": "code",
   "execution_count": 597,
   "metadata": {},
   "outputs": [],
   "source": [
    "y_pred  = qda.predict(X_test[qda_feat])"
   ]
  },
  {
   "cell_type": "code",
   "execution_count": 598,
   "metadata": {},
   "outputs": [],
   "source": [
    "y_pred_prob = qda.predict_proba(X_test[qda_feat])[:,1]"
   ]
  },
  {
   "cell_type": "code",
   "execution_count": 599,
   "metadata": {},
   "outputs": [
    {
     "data": {
      "text/plain": [
       "array([0.09561224, 0.16069606, 0.98693506, ..., 0.96690818, 0.9444225 ,\n",
       "       0.9918505 ])"
      ]
     },
     "execution_count": 599,
     "metadata": {},
     "output_type": "execute_result"
    }
   ],
   "source": [
    "y_pred_prob"
   ]
  },
  {
   "cell_type": "code",
   "execution_count": 600,
   "metadata": {},
   "outputs": [],
   "source": [
    "from sklearn.metrics import classification_report,accuracy_score,confusion_matrix,roc_auc_score"
   ]
  },
  {
   "cell_type": "code",
   "execution_count": 601,
   "metadata": {},
   "outputs": [
    {
     "name": "stdout",
     "output_type": "stream",
     "text": [
      "              precision    recall  f1-score   support\n",
      "\n",
      "           0       0.81      0.52      0.63      1747\n",
      "           1       0.77      0.93      0.84      3048\n",
      "\n",
      "    accuracy                           0.78      4795\n",
      "   macro avg       0.79      0.72      0.74      4795\n",
      "weighted avg       0.78      0.78      0.76      4795\n",
      "\n"
     ]
    }
   ],
   "source": [
    "print(classification_report(y_test,y_pred))"
   ]
  },
  {
   "cell_type": "code",
   "execution_count": 602,
   "metadata": {},
   "outputs": [
    {
     "data": {
      "text/plain": [
       "array([[ 900,  847],\n",
       "       [ 214, 2834]], dtype=int64)"
      ]
     },
     "execution_count": 602,
     "metadata": {},
     "output_type": "execute_result"
    }
   ],
   "source": [
    "cm = confusion_matrix(y_test,y_pred)\n",
    "cm"
   ]
  },
  {
   "cell_type": "code",
   "execution_count": 603,
   "metadata": {},
   "outputs": [
    {
     "data": {
      "image/png": "[encoded data removed]",
      "text/plain": [
       "<Figure size 432x288 with 2 Axes>"
      ]
     },
     "metadata": {
      "needs_background": "light"
     },
     "output_type": "display_data"
    }
   ],
   "source": [
    "sns.heatmap(cm,annot=True,fmt='d',cmap='Accent')\n",
    "plt.xlabel('Predicted labels')\n",
    "plt.ylabel('Actual labels')\n",
    "plt.xticks(ticks=[0,1],labels=['non_hit','hit'])\n",
    "plt.yticks(ticks=[0,1],labels=['non_hit','hit'])\n",
    "plt.show()"
   ]
  },
  {
   "cell_type": "code",
   "execution_count": 604,
   "metadata": {},
   "outputs": [
    {
     "data": {
      "text/plain": [
       "0.7787278415015642"
      ]
     },
     "execution_count": 604,
     "metadata": {},
     "output_type": "execute_result"
    }
   ],
   "source": [
    "as4 = accuracy_score(y_test,y_pred)\n",
    "as4"
   ]
  },
  {
   "cell_type": "code",
   "execution_count": 605,
   "metadata": {},
   "outputs": [
    {
     "data": {
      "text/plain": [
       "0.8088755827387633"
      ]
     },
     "execution_count": 605,
     "metadata": {},
     "output_type": "execute_result"
    }
   ],
   "source": [
    "rs4 = roc_auc_score(y_test,y_pred_prob)\n",
    "rs4"
   ]
  },
  {
   "cell_type": "markdown",
   "metadata": {},
   "source": [
    "##### Logistic Regression model with all features"
   ]
  },
  {
   "cell_type": "code",
   "execution_count": 606,
   "metadata": {},
   "outputs": [],
   "source": [
    "from sklearn.linear_model import LogisticRegression"
   ]
  },
  {
   "cell_type": "code",
   "execution_count": 607,
   "metadata": {},
   "outputs": [
    {
     "data": {
      "text/plain": [
       "LogisticRegression(random_state=1)"
      ]
     },
     "execution_count": 607,
     "metadata": {},
     "output_type": "execute_result"
    }
   ],
   "source": [
    "lr = LogisticRegression(random_state=1)\n",
    "\n",
    "lr.fit(X_train, y_train)"
   ]
  },
  {
   "cell_type": "code",
   "execution_count": 608,
   "metadata": {},
   "outputs": [],
   "source": [
    "y_pred  = lr.predict(X_test)"
   ]
  },
  {
   "cell_type": "code",
   "execution_count": 609,
   "metadata": {},
   "outputs": [],
   "source": [
    "y_pred_prob = lr.predict_proba(X_test)[:,1]"
   ]
  },
  {
   "cell_type": "code",
   "execution_count": 610,
   "metadata": {},
   "outputs": [
    {
     "data": {
      "text/plain": [
       "array([0.42368358, 0.2456046 , 0.81676436, ..., 0.82091926, 0.87007711,\n",
       "       0.88021002])"
      ]
     },
     "execution_count": 610,
     "metadata": {},
     "output_type": "execute_result"
    }
   ],
   "source": [
    "y_pred_prob"
   ]
  },
  {
   "cell_type": "code",
   "execution_count": 611,
   "metadata": {},
   "outputs": [],
   "source": [
    "from sklearn.metrics import classification_report,accuracy_score,confusion_matrix,roc_auc_score"
   ]
  },
  {
   "cell_type": "code",
   "execution_count": 612,
   "metadata": {},
   "outputs": [
    {
     "name": "stdout",
     "output_type": "stream",
     "text": [
      "              precision    recall  f1-score   support\n",
      "\n",
      "           0       0.78      0.51      0.62      1747\n",
      "           1       0.77      0.92      0.84      3048\n",
      "\n",
      "    accuracy                           0.77      4795\n",
      "   macro avg       0.77      0.71      0.73      4795\n",
      "weighted avg       0.77      0.77      0.76      4795\n",
      "\n"
     ]
    }
   ],
   "source": [
    "print(classification_report(y_test,y_pred))"
   ]
  },
  {
   "cell_type": "code",
   "execution_count": 613,
   "metadata": {},
   "outputs": [
    {
     "data": {
      "text/plain": [
       "array([[ 894,  853],\n",
       "       [ 251, 2797]], dtype=int64)"
      ]
     },
     "execution_count": 613,
     "metadata": {},
     "output_type": "execute_result"
    }
   ],
   "source": [
    "cm = confusion_matrix(y_test,y_pred)\n",
    "cm"
   ]
  },
  {
   "cell_type": "code",
   "execution_count": 614,
   "metadata": {},
   "outputs": [
    {
     "data": {
      "image/png": "[encoded data removed]",
      "text/plain": [
       "<Figure size 432x288 with 2 Axes>"
      ]
     },
     "metadata": {
      "needs_background": "light"
     },
     "output_type": "display_data"
    }
   ],
   "source": [
    "sns.heatmap(cm,annot=True,fmt='d',cmap='Accent')\n",
    "plt.xlabel('Predicted labels')\n",
    "plt.ylabel('Actual labels')\n",
    "plt.xticks(ticks=[0,1],labels=['non_hit','hit'])\n",
    "plt.yticks(ticks=[0,1],labels=['non_hit','hit'])\n",
    "plt.show()"
   ]
  },
  {
   "cell_type": "code",
   "execution_count": 615,
   "metadata": {},
   "outputs": [
    {
     "data": {
      "text/plain": [
       "0.7697601668404588"
      ]
     },
     "execution_count": 615,
     "metadata": {},
     "output_type": "execute_result"
    }
   ],
   "source": [
    "as5 = accuracy_score(y_test,y_pred)\n",
    "as5"
   ]
  },
  {
   "cell_type": "code",
   "execution_count": 616,
   "metadata": {},
   "outputs": [
    {
     "data": {
      "text/plain": [
       "0.7962198414379655"
      ]
     },
     "execution_count": 616,
     "metadata": {},
     "output_type": "execute_result"
    }
   ],
   "source": [
    "rs5 = roc_auc_score(y_test,y_pred_prob)\n",
    "rs5"
   ]
  },
  {
   "cell_type": "markdown",
   "metadata": {},
   "source": [
    "##### GridSearchCV for identifying Best number of Features to Select using RFE "
   ]
  },
  {
   "cell_type": "code",
   "execution_count": 617,
   "metadata": {},
   "outputs": [
    {
     "data": {
      "text/html": [
       "<div>\n",
       "<style scoped>\n",
       "    .dataframe tbody tr th:only-of-type {\n",
       "        vertical-align: middle;\n",
       "    }\n",
       "\n",
       "    .dataframe tbody tr th {\n",
       "        vertical-align: top;\n",
       "    }\n",
       "\n",
       "    .dataframe thead th {\n",
       "        text-align: right;\n",
       "    }\n",
       "</style>\n",
       "<table border=\"1\" class=\"dataframe\">\n",
       "  <thead>\n",
       "    <tr style=\"text-align: right;\">\n",
       "      <th></th>\n",
       "      <th>danceability</th>\n",
       "      <th>energy</th>\n",
       "      <th>key</th>\n",
       "      <th>mode</th>\n",
       "      <th>speechiness</th>\n",
       "      <th>acousticness</th>\n",
       "      <th>instrumentalness</th>\n",
       "      <th>liveness</th>\n",
       "      <th>valence</th>\n",
       "      <th>tempo</th>\n",
       "      <th>duration_ms</th>\n",
       "      <th>loudness</th>\n",
       "    </tr>\n",
       "  </thead>\n",
       "  <tbody>\n",
       "    <tr>\n",
       "      <th>4465</th>\n",
       "      <td>0.022882</td>\n",
       "      <td>1.346725</td>\n",
       "      <td>-0.921705</td>\n",
       "      <td>0.693644</td>\n",
       "      <td>-0.537078</td>\n",
       "      <td>-0.820921</td>\n",
       "      <td>-0.354654</td>\n",
       "      <td>-0.540537</td>\n",
       "      <td>-0.631497</td>\n",
       "      <td>-0.324598</td>\n",
       "      <td>0.540929</td>\n",
       "      <td>1.019403</td>\n",
       "    </tr>\n",
       "    <tr>\n",
       "      <th>8772</th>\n",
       "      <td>0.874242</td>\n",
       "      <td>0.630738</td>\n",
       "      <td>-1.202039</td>\n",
       "      <td>0.693644</td>\n",
       "      <td>-0.557142</td>\n",
       "      <td>-0.611377</td>\n",
       "      <td>-0.354685</td>\n",
       "      <td>-0.656667</td>\n",
       "      <td>1.461530</td>\n",
       "      <td>-0.019946</td>\n",
       "      <td>-0.008178</td>\n",
       "      <td>0.167497</td>\n",
       "    </tr>\n",
       "    <tr>\n",
       "      <th>11794</th>\n",
       "      <td>0.742341</td>\n",
       "      <td>0.193708</td>\n",
       "      <td>-1.482373</td>\n",
       "      <td>0.693644</td>\n",
       "      <td>-0.603378</td>\n",
       "      <td>-0.591799</td>\n",
       "      <td>-0.354685</td>\n",
       "      <td>-0.589465</td>\n",
       "      <td>1.293596</td>\n",
       "      <td>-0.833724</td>\n",
       "      <td>-0.138051</td>\n",
       "      <td>-0.091024</td>\n",
       "    </tr>\n",
       "    <tr>\n",
       "      <th>9326</th>\n",
       "      <td>-1.344090</td>\n",
       "      <td>1.165404</td>\n",
       "      <td>0.479963</td>\n",
       "      <td>0.693644</td>\n",
       "      <td>-0.383540</td>\n",
       "      <td>-0.455110</td>\n",
       "      <td>-0.353448</td>\n",
       "      <td>-0.375478</td>\n",
       "      <td>-0.287438</td>\n",
       "      <td>-0.169325</td>\n",
       "      <td>1.035257</td>\n",
       "      <td>0.791369</td>\n",
       "    </tr>\n",
       "    <tr>\n",
       "      <th>6184</th>\n",
       "      <td>0.952183</td>\n",
       "      <td>1.146807</td>\n",
       "      <td>1.320964</td>\n",
       "      <td>-1.441662</td>\n",
       "      <td>0.747929</td>\n",
       "      <td>-0.773696</td>\n",
       "      <td>-0.354685</td>\n",
       "      <td>-0.741555</td>\n",
       "      <td>0.597286</td>\n",
       "      <td>-0.858911</td>\n",
       "      <td>-0.289954</td>\n",
       "      <td>1.150275</td>\n",
       "    </tr>\n",
       "  </tbody>\n",
       "</table>\n",
       "</div>"
      ],
      "text/plain": [
       "       danceability    energy       key      mode  speechiness  acousticness  \\\n",
       "4465       0.022882  1.346725 -0.921705  0.693644    -0.537078     -0.820921   \n",
       "8772       0.874242  0.630738 -1.202039  0.693644    -0.557142     -0.611377   \n",
       "11794      0.742341  0.193708 -1.482373  0.693644    -0.603378     -0.591799   \n",
       "9326      -1.344090  1.165404  0.479963  0.693644    -0.383540     -0.455110   \n",
       "6184       0.952183  1.146807  1.320964 -1.441662     0.747929     -0.773696   \n",
       "\n",
       "       instrumentalness  liveness   valence     tempo  duration_ms  loudness  \n",
       "4465          -0.354654 -0.540537 -0.631497 -0.324598     0.540929  1.019403  \n",
       "8772          -0.354685 -0.656667  1.461530 -0.019946    -0.008178  0.167497  \n",
       "11794         -0.354685 -0.589465  1.293596 -0.833724    -0.138051 -0.091024  \n",
       "9326          -0.353448 -0.375478 -0.287438 -0.169325     1.035257  0.791369  \n",
       "6184          -0.354685 -0.741555  0.597286 -0.858911    -0.289954  1.150275  "
      ]
     },
     "execution_count": 617,
     "metadata": {},
     "output_type": "execute_result"
    }
   ],
   "source": [
    "X_train.head()"
   ]
  },
  {
   "cell_type": "code",
   "execution_count": 618,
   "metadata": {},
   "outputs": [
    {
     "data": {
      "text/plain": [
       "GridSearchCV(cv=3, estimator=RFE(estimator=LogisticRegression(random_state=1)),\n",
       "             param_grid=[{'n_features_to_select': [1, 2, 3, 4, 5, 6, 7, 8, 9,\n",
       "                                                   10, 11, 12]}],\n",
       "             return_train_score=True, scoring='r2')"
      ]
     },
     "execution_count": 618,
     "metadata": {},
     "output_type": "execute_result"
    }
   ],
   "source": [
    "from sklearn.model_selection import GridSearchCV\n",
    "\n",
    "lor = LogisticRegression(random_state=1)\n",
    "rfe = RFE(lor)\n",
    "\n",
    "params = [{'n_features_to_select': list(range(1, 13))}]\n",
    "\n",
    "gsearch = GridSearchCV(rfe, param_grid=params, scoring='r2', cv=3, return_train_score=True)\n",
    "gsearch.fit(X_train, y_train)"
   ]
  },
  {
   "cell_type": "code",
   "execution_count": 619,
   "metadata": {},
   "outputs": [
    {
     "data": {
      "text/plain": [
       "{'n_features_to_select': 9}"
      ]
     },
     "execution_count": 619,
     "metadata": {},
     "output_type": "execute_result"
    }
   ],
   "source": [
    "gsearch.best_params_"
   ]
  },
  {
   "cell_type": "code",
   "execution_count": 620,
   "metadata": {},
   "outputs": [
    {
     "data": {
      "text/html": [
       "<div>\n",
       "<style scoped>\n",
       "    .dataframe tbody tr th:only-of-type {\n",
       "        vertical-align: middle;\n",
       "    }\n",
       "\n",
       "    .dataframe tbody tr th {\n",
       "        vertical-align: top;\n",
       "    }\n",
       "\n",
       "    .dataframe thead th {\n",
       "        text-align: right;\n",
       "    }\n",
       "</style>\n",
       "<table border=\"1\" class=\"dataframe\">\n",
       "  <thead>\n",
       "    <tr style=\"text-align: right;\">\n",
       "      <th></th>\n",
       "      <th>param_n_features_to_select</th>\n",
       "      <th>params</th>\n",
       "      <th>split0_test_score</th>\n",
       "      <th>split1_test_score</th>\n",
       "      <th>split2_test_score</th>\n",
       "      <th>mean_test_score</th>\n",
       "      <th>std_test_score</th>\n",
       "      <th>rank_test_score</th>\n",
       "      <th>split0_train_score</th>\n",
       "      <th>split1_train_score</th>\n",
       "      <th>split2_train_score</th>\n",
       "      <th>mean_train_score</th>\n",
       "      <th>std_train_score</th>\n",
       "    </tr>\n",
       "  </thead>\n",
       "  <tbody>\n",
       "    <tr>\n",
       "      <th>0</th>\n",
       "      <td>1</td>\n",
       "      <td>{'n_features_to_select': 1}</td>\n",
       "      <td>-0.195959</td>\n",
       "      <td>-0.269045</td>\n",
       "      <td>-0.273032</td>\n",
       "      <td>-0.246012</td>\n",
       "      <td>0.035430</td>\n",
       "      <td>12</td>\n",
       "      <td>-0.269045</td>\n",
       "      <td>-0.235160</td>\n",
       "      <td>-0.232502</td>\n",
       "      <td>-0.245569</td>\n",
       "      <td>0.016636</td>\n",
       "    </tr>\n",
       "    <tr>\n",
       "      <th>1</th>\n",
       "      <td>2</td>\n",
       "      <td>{'n_features_to_select': 2}</td>\n",
       "      <td>-0.117557</td>\n",
       "      <td>-0.141476</td>\n",
       "      <td>-0.209247</td>\n",
       "      <td>-0.156093</td>\n",
       "      <td>0.038833</td>\n",
       "      <td>11</td>\n",
       "      <td>-0.171375</td>\n",
       "      <td>-0.156093</td>\n",
       "      <td>-0.121543</td>\n",
       "      <td>-0.149671</td>\n",
       "      <td>0.020844</td>\n",
       "    </tr>\n",
       "    <tr>\n",
       "      <th>2</th>\n",
       "      <td>3</td>\n",
       "      <td>{'n_features_to_select': 3}</td>\n",
       "      <td>-0.064403</td>\n",
       "      <td>-0.076363</td>\n",
       "      <td>-0.140147</td>\n",
       "      <td>-0.093638</td>\n",
       "      <td>0.033248</td>\n",
       "      <td>10</td>\n",
       "      <td>-0.114235</td>\n",
       "      <td>-0.106262</td>\n",
       "      <td>-0.071712</td>\n",
       "      <td>-0.097403</td>\n",
       "      <td>0.018456</td>\n",
       "    </tr>\n",
       "  </tbody>\n",
       "</table>\n",
       "</div>"
      ],
      "text/plain": [
       "  param_n_features_to_select                       params  split0_test_score  \\\n",
       "0                          1  {'n_features_to_select': 1}          -0.195959   \n",
       "1                          2  {'n_features_to_select': 2}          -0.117557   \n",
       "2                          3  {'n_features_to_select': 3}          -0.064403   \n",
       "\n",
       "   split1_test_score  split2_test_score  mean_test_score  std_test_score  \\\n",
       "0          -0.269045          -0.273032        -0.246012        0.035430   \n",
       "1          -0.141476          -0.209247        -0.156093        0.038833   \n",
       "2          -0.076363          -0.140147        -0.093638        0.033248   \n",
       "\n",
       "   rank_test_score  split0_train_score  split1_train_score  \\\n",
       "0               12           -0.269045           -0.235160   \n",
       "1               11           -0.171375           -0.156093   \n",
       "2               10           -0.114235           -0.106262   \n",
       "\n",
       "   split2_train_score  mean_train_score  std_train_score  \n",
       "0           -0.232502         -0.245569         0.016636  \n",
       "1           -0.121543         -0.149671         0.020844  \n",
       "2           -0.071712         -0.097403         0.018456  "
      ]
     },
     "execution_count": 620,
     "metadata": {},
     "output_type": "execute_result"
    }
   ],
   "source": [
    "pd.DataFrame(gsearch.cv_results_).iloc[:,4:].head(3)"
   ]
  },
  {
   "cell_type": "code",
   "execution_count": 621,
   "metadata": {},
   "outputs": [
    {
     "data": {
      "image/png": "[encoded data removed]",
      "text/plain": [
       "<Figure size 432x288 with 1 Axes>"
      ]
     },
     "metadata": {
      "needs_background": "light"
     },
     "output_type": "display_data"
    }
   ],
   "source": [
    "cvr = pd.DataFrame(gsearch.cv_results_).iloc[:,4:]\n",
    "\n",
    "plt.plot(cvr['param_n_features_to_select'], cvr['mean_test_score'])\n",
    "plt.plot(cvr['param_n_features_to_select'], cvr['mean_train_score'])\n",
    "plt.xlabel('number of features selected')\n",
    "plt.ylabel('r-squared')\n",
    "plt.show()"
   ]
  },
  {
   "cell_type": "code",
   "execution_count": 622,
   "metadata": {},
   "outputs": [
    {
     "data": {
      "text/html": [
       "<div>\n",
       "<style scoped>\n",
       "    .dataframe tbody tr th:only-of-type {\n",
       "        vertical-align: middle;\n",
       "    }\n",
       "\n",
       "    .dataframe tbody tr th {\n",
       "        vertical-align: top;\n",
       "    }\n",
       "\n",
       "    .dataframe thead th {\n",
       "        text-align: right;\n",
       "    }\n",
       "</style>\n",
       "<table border=\"1\" class=\"dataframe\">\n",
       "  <thead>\n",
       "    <tr style=\"text-align: right;\">\n",
       "      <th></th>\n",
       "      <th>rank</th>\n",
       "    </tr>\n",
       "  </thead>\n",
       "  <tbody>\n",
       "    <tr>\n",
       "      <th>danceability</th>\n",
       "      <td>1</td>\n",
       "    </tr>\n",
       "    <tr>\n",
       "      <th>energy</th>\n",
       "      <td>1</td>\n",
       "    </tr>\n",
       "    <tr>\n",
       "      <th>speechiness</th>\n",
       "      <td>1</td>\n",
       "    </tr>\n",
       "    <tr>\n",
       "      <th>acousticness</th>\n",
       "      <td>1</td>\n",
       "    </tr>\n",
       "    <tr>\n",
       "      <th>instrumentalness</th>\n",
       "      <td>1</td>\n",
       "    </tr>\n",
       "    <tr>\n",
       "      <th>liveness</th>\n",
       "      <td>1</td>\n",
       "    </tr>\n",
       "    <tr>\n",
       "      <th>valence</th>\n",
       "      <td>1</td>\n",
       "    </tr>\n",
       "    <tr>\n",
       "      <th>duration_ms</th>\n",
       "      <td>1</td>\n",
       "    </tr>\n",
       "    <tr>\n",
       "      <th>loudness</th>\n",
       "      <td>1</td>\n",
       "    </tr>\n",
       "    <tr>\n",
       "      <th>tempo</th>\n",
       "      <td>2</td>\n",
       "    </tr>\n",
       "    <tr>\n",
       "      <th>key</th>\n",
       "      <td>3</td>\n",
       "    </tr>\n",
       "    <tr>\n",
       "      <th>mode</th>\n",
       "      <td>4</td>\n",
       "    </tr>\n",
       "  </tbody>\n",
       "</table>\n",
       "</div>"
      ],
      "text/plain": [
       "                  rank\n",
       "danceability         1\n",
       "energy               1\n",
       "speechiness          1\n",
       "acousticness         1\n",
       "instrumentalness     1\n",
       "liveness             1\n",
       "valence              1\n",
       "duration_ms          1\n",
       "loudness             1\n",
       "tempo                2\n",
       "key                  3\n",
       "mode                 4"
      ]
     },
     "execution_count": 622,
     "metadata": {},
     "output_type": "execute_result"
    }
   ],
   "source": [
    "lor = LogisticRegression(random_state=1)\n",
    "rfe = RFE(lor, n_features_to_select=9)\n",
    "rfe.fit(X_train, y_train)\n",
    "\n",
    "rf = pd.DataFrame(rfe.ranking_, index=X.columns, columns=['rank'])\n",
    "rf.sort_values(by='rank')"
   ]
  },
  {
   "cell_type": "code",
   "execution_count": 623,
   "metadata": {},
   "outputs": [
    {
     "data": {
      "text/plain": [
       "['danceability',\n",
       " 'energy',\n",
       " 'speechiness',\n",
       " 'acousticness',\n",
       " 'instrumentalness',\n",
       " 'liveness',\n",
       " 'valence',\n",
       " 'duration_ms',\n",
       " 'loudness']"
      ]
     },
     "execution_count": 623,
     "metadata": {},
     "output_type": "execute_result"
    }
   ],
   "source": [
    "lr_feat = list(rf.index[rf['rank']==1])\n",
    "lr_feat"
   ]
  },
  {
   "cell_type": "markdown",
   "metadata": {},
   "source": [
    "##### Logistic Regression model with selective features"
   ]
  },
  {
   "cell_type": "code",
   "execution_count": 624,
   "metadata": {},
   "outputs": [
    {
     "data": {
      "text/plain": [
       "LogisticRegression(random_state=1)"
      ]
     },
     "execution_count": 624,
     "metadata": {},
     "output_type": "execute_result"
    }
   ],
   "source": [
    "lr = LogisticRegression(random_state=1)\n",
    "\n",
    "lr.fit(X_train[lr_feat], y_train)"
   ]
  },
  {
   "cell_type": "code",
   "execution_count": 625,
   "metadata": {},
   "outputs": [],
   "source": [
    "y_pred  = lr.predict(X_test[lr_feat])"
   ]
  },
  {
   "cell_type": "code",
   "execution_count": 626,
   "metadata": {},
   "outputs": [],
   "source": [
    "y_pred_prob = lr.predict_proba(X_test[lr_feat])[:,1]"
   ]
  },
  {
   "cell_type": "code",
   "execution_count": 627,
   "metadata": {},
   "outputs": [
    {
     "data": {
      "text/plain": [
       "array([0.42798361, 0.25248847, 0.80593004, ..., 0.81416472, 0.8673921 ,\n",
       "       0.86869734])"
      ]
     },
     "execution_count": 627,
     "metadata": {},
     "output_type": "execute_result"
    }
   ],
   "source": [
    "y_pred_prob"
   ]
  },
  {
   "cell_type": "code",
   "execution_count": 628,
   "metadata": {},
   "outputs": [],
   "source": [
    "from sklearn.metrics import classification_report,accuracy_score,confusion_matrix,roc_auc_score"
   ]
  },
  {
   "cell_type": "code",
   "execution_count": 629,
   "metadata": {},
   "outputs": [
    {
     "name": "stdout",
     "output_type": "stream",
     "text": [
      "              precision    recall  f1-score   support\n",
      "\n",
      "           0       0.78      0.51      0.62      1747\n",
      "           1       0.77      0.92      0.84      3048\n",
      "\n",
      "    accuracy                           0.77      4795\n",
      "   macro avg       0.77      0.71      0.73      4795\n",
      "weighted avg       0.77      0.77      0.76      4795\n",
      "\n"
     ]
    }
   ],
   "source": [
    "print(classification_report(y_test,y_pred))"
   ]
  },
  {
   "cell_type": "code",
   "execution_count": 630,
   "metadata": {},
   "outputs": [
    {
     "data": {
      "text/plain": [
       "array([[ 893,  854],\n",
       "       [ 250, 2798]], dtype=int64)"
      ]
     },
     "execution_count": 630,
     "metadata": {},
     "output_type": "execute_result"
    }
   ],
   "source": [
    "cm = confusion_matrix(y_test,y_pred)\n",
    "cm"
   ]
  },
  {
   "cell_type": "code",
   "execution_count": 631,
   "metadata": {},
   "outputs": [
    {
     "data": {
      "image/png": "[encoded data removed]",
      "text/plain": [
       "<Figure size 432x288 with 2 Axes>"
      ]
     },
     "metadata": {
      "needs_background": "light"
     },
     "output_type": "display_data"
    }
   ],
   "source": [
    "sns.heatmap(cm,annot=True,fmt='d',cmap='Accent')\n",
    "plt.xlabel('Predicted labels')\n",
    "plt.ylabel('Actual labels')\n",
    "plt.xticks(ticks=[0,1],labels=['non_hit','hit'])\n",
    "plt.yticks(ticks=[0,1],labels=['non_hit','hit'])\n",
    "plt.show()"
   ]
  },
  {
   "cell_type": "code",
   "execution_count": 632,
   "metadata": {},
   "outputs": [
    {
     "data": {
      "text/plain": [
       "0.7697601668404588"
      ]
     },
     "execution_count": 632,
     "metadata": {},
     "output_type": "execute_result"
    }
   ],
   "source": [
    "as6 = accuracy_score(y_test,y_pred)\n",
    "as6"
   ]
  },
  {
   "cell_type": "code",
   "execution_count": 633,
   "metadata": {},
   "outputs": [
    {
     "data": {
      "text/plain": [
       "0.795589589652753"
      ]
     },
     "execution_count": 633,
     "metadata": {},
     "output_type": "execute_result"
    }
   ],
   "source": [
    "rs6 = roc_auc_score(y_test,y_pred_prob)\n",
    "rs6"
   ]
  },
  {
   "cell_type": "markdown",
   "metadata": {},
   "source": [
    "#### Logistic Regression with feature selection based on lasso and DT based Feature Importance "
   ]
  },
  {
   "cell_type": "code",
   "execution_count": 634,
   "metadata": {},
   "outputs": [
    {
     "data": {
      "text/html": [
       "<div>\n",
       "<style scoped>\n",
       "    .dataframe tbody tr th:only-of-type {\n",
       "        vertical-align: middle;\n",
       "    }\n",
       "\n",
       "    .dataframe tbody tr th {\n",
       "        vertical-align: top;\n",
       "    }\n",
       "\n",
       "    .dataframe thead th {\n",
       "        text-align: right;\n",
       "    }\n",
       "</style>\n",
       "<table border=\"1\" class=\"dataframe\">\n",
       "  <thead>\n",
       "    <tr style=\"text-align: right;\">\n",
       "      <th></th>\n",
       "      <th>SpotifyID</th>\n",
       "      <th>Track</th>\n",
       "      <th>Artist</th>\n",
       "      <th>danceability</th>\n",
       "      <th>energy</th>\n",
       "      <th>key</th>\n",
       "      <th>mode</th>\n",
       "      <th>speechiness</th>\n",
       "      <th>acousticness</th>\n",
       "      <th>instrumentalness</th>\n",
       "      <th>liveness</th>\n",
       "      <th>valence</th>\n",
       "      <th>tempo</th>\n",
       "      <th>duration_ms</th>\n",
       "      <th>loudness</th>\n",
       "      <th>is_hit</th>\n",
       "    </tr>\n",
       "  </thead>\n",
       "  <tbody>\n",
       "    <tr>\n",
       "      <th>0</th>\n",
       "      <td>58spuRyMUsjKHQHEGwLC99</td>\n",
       "      <td>80s Mercedes</td>\n",
       "      <td>Maren Morris</td>\n",
       "      <td>0.485</td>\n",
       "      <td>0.834</td>\n",
       "      <td>9</td>\n",
       "      <td>1</td>\n",
       "      <td>0.0715</td>\n",
       "      <td>0.0665</td>\n",
       "      <td>0.000</td>\n",
       "      <td>0.2800</td>\n",
       "      <td>0.659</td>\n",
       "      <td>90.933</td>\n",
       "      <td>211767</td>\n",
       "      <td>-5.413</td>\n",
       "      <td>1</td>\n",
       "    </tr>\n",
       "    <tr>\n",
       "      <th>1</th>\n",
       "      <td>6LdR1UYMIqsaaUt0hiWVBN</td>\n",
       "      <td>Dio Nisia</td>\n",
       "      <td>Giorgos Sabanis</td>\n",
       "      <td>0.691</td>\n",
       "      <td>0.762</td>\n",
       "      <td>2</td>\n",
       "      <td>1</td>\n",
       "      <td>0.0285</td>\n",
       "      <td>0.0808</td>\n",
       "      <td>0.000</td>\n",
       "      <td>0.1340</td>\n",
       "      <td>0.529</td>\n",
       "      <td>116.024</td>\n",
       "      <td>248427</td>\n",
       "      <td>-7.321</td>\n",
       "      <td>0</td>\n",
       "    </tr>\n",
       "    <tr>\n",
       "      <th>2</th>\n",
       "      <td>3gQRcZZeBCMGANY1wT2x6A</td>\n",
       "      <td>Hooked On A Feeling (Ooga-Chaka)</td>\n",
       "      <td>Baby Talk</td>\n",
       "      <td>0.613</td>\n",
       "      <td>0.678</td>\n",
       "      <td>8</td>\n",
       "      <td>1</td>\n",
       "      <td>0.1060</td>\n",
       "      <td>0.5420</td>\n",
       "      <td>0.000</td>\n",
       "      <td>0.0391</td>\n",
       "      <td>0.911</td>\n",
       "      <td>118.629</td>\n",
       "      <td>181107</td>\n",
       "      <td>-7.850</td>\n",
       "      <td>1</td>\n",
       "    </tr>\n",
       "    <tr>\n",
       "      <th>3</th>\n",
       "      <td>54p39OJ544KF6iFeCzbVjs</td>\n",
       "      <td>Tennessee Rain</td>\n",
       "      <td>Addison Agen</td>\n",
       "      <td>0.553</td>\n",
       "      <td>0.232</td>\n",
       "      <td>9</td>\n",
       "      <td>1</td>\n",
       "      <td>0.0326</td>\n",
       "      <td>0.9070</td>\n",
       "      <td>0.000</td>\n",
       "      <td>0.1230</td>\n",
       "      <td>0.274</td>\n",
       "      <td>137.800</td>\n",
       "      <td>210986</td>\n",
       "      <td>-6.929</td>\n",
       "      <td>1</td>\n",
       "    </tr>\n",
       "    <tr>\n",
       "      <th>4</th>\n",
       "      <td>5JxJQxSxpK3B7ShOV2bz9f</td>\n",
       "      <td>French Touch</td>\n",
       "      <td>Richard Galliano</td>\n",
       "      <td>0.647</td>\n",
       "      <td>0.567</td>\n",
       "      <td>4</td>\n",
       "      <td>0</td>\n",
       "      <td>0.0388</td>\n",
       "      <td>0.4070</td>\n",
       "      <td>0.441</td>\n",
       "      <td>0.1510</td>\n",
       "      <td>0.674</td>\n",
       "      <td>113.256</td>\n",
       "      <td>210720</td>\n",
       "      <td>-10.191</td>\n",
       "      <td>0</td>\n",
       "    </tr>\n",
       "  </tbody>\n",
       "</table>\n",
       "</div>"
      ],
      "text/plain": [
       "                SpotifyID                             Track            Artist  \\\n",
       "0  58spuRyMUsjKHQHEGwLC99                      80s Mercedes      Maren Morris   \n",
       "1  6LdR1UYMIqsaaUt0hiWVBN                         Dio Nisia   Giorgos Sabanis   \n",
       "2  3gQRcZZeBCMGANY1wT2x6A  Hooked On A Feeling (Ooga-Chaka)         Baby Talk   \n",
       "3  54p39OJ544KF6iFeCzbVjs                    Tennessee Rain      Addison Agen   \n",
       "4  5JxJQxSxpK3B7ShOV2bz9f                      French Touch  Richard Galliano   \n",
       "\n",
       "   danceability  energy  key  mode  speechiness  acousticness  \\\n",
       "0         0.485   0.834    9     1       0.0715        0.0665   \n",
       "1         0.691   0.762    2     1       0.0285        0.0808   \n",
       "2         0.613   0.678    8     1       0.1060        0.5420   \n",
       "3         0.553   0.232    9     1       0.0326        0.9070   \n",
       "4         0.647   0.567    4     0       0.0388        0.4070   \n",
       "\n",
       "   instrumentalness  liveness  valence    tempo  duration_ms  loudness  is_hit  \n",
       "0             0.000    0.2800    0.659   90.933       211767    -5.413       1  \n",
       "1             0.000    0.1340    0.529  116.024       248427    -7.321       0  \n",
       "2             0.000    0.0391    0.911  118.629       181107    -7.850       1  \n",
       "3             0.000    0.1230    0.274  137.800       210986    -6.929       1  \n",
       "4             0.441    0.1510    0.674  113.256       210720   -10.191       0  "
      ]
     },
     "execution_count": 634,
     "metadata": {},
     "output_type": "execute_result"
    }
   ],
   "source": [
    "df=pd.read_csv('bb_msd_merged.csv')\n",
    "df.head()"
   ]
  },
  {
   "cell_type": "code",
   "execution_count": 635,
   "metadata": {},
   "outputs": [],
   "source": [
    "df.drop(columns=['SpotifyID','Track','Artist'],inplace=True)"
   ]
  },
  {
   "cell_type": "code",
   "execution_count": 636,
   "metadata": {
    "scrolled": true
   },
   "outputs": [
    {
     "data": {
      "text/html": [
       "<div>\n",
       "<style scoped>\n",
       "    .dataframe tbody tr th:only-of-type {\n",
       "        vertical-align: middle;\n",
       "    }\n",
       "\n",
       "    .dataframe tbody tr th {\n",
       "        vertical-align: top;\n",
       "    }\n",
       "\n",
       "    .dataframe thead th {\n",
       "        text-align: right;\n",
       "    }\n",
       "</style>\n",
       "<table border=\"1\" class=\"dataframe\">\n",
       "  <thead>\n",
       "    <tr style=\"text-align: right;\">\n",
       "      <th></th>\n",
       "      <th>danceability</th>\n",
       "      <th>energy</th>\n",
       "      <th>key</th>\n",
       "      <th>mode</th>\n",
       "      <th>speechiness</th>\n",
       "      <th>acousticness</th>\n",
       "      <th>instrumentalness</th>\n",
       "      <th>liveness</th>\n",
       "      <th>valence</th>\n",
       "      <th>tempo</th>\n",
       "      <th>duration_ms</th>\n",
       "      <th>loudness</th>\n",
       "      <th>is_hit</th>\n",
       "    </tr>\n",
       "  </thead>\n",
       "  <tbody>\n",
       "    <tr>\n",
       "      <th>0</th>\n",
       "      <td>0.485</td>\n",
       "      <td>0.834</td>\n",
       "      <td>9</td>\n",
       "      <td>1</td>\n",
       "      <td>0.0715</td>\n",
       "      <td>0.0665</td>\n",
       "      <td>0.0</td>\n",
       "      <td>0.280</td>\n",
       "      <td>0.659</td>\n",
       "      <td>90.933</td>\n",
       "      <td>211767</td>\n",
       "      <td>-5.413</td>\n",
       "      <td>1</td>\n",
       "    </tr>\n",
       "    <tr>\n",
       "      <th>1</th>\n",
       "      <td>0.691</td>\n",
       "      <td>0.762</td>\n",
       "      <td>2</td>\n",
       "      <td>1</td>\n",
       "      <td>0.0285</td>\n",
       "      <td>0.0808</td>\n",
       "      <td>0.0</td>\n",
       "      <td>0.134</td>\n",
       "      <td>0.529</td>\n",
       "      <td>116.024</td>\n",
       "      <td>248427</td>\n",
       "      <td>-7.321</td>\n",
       "      <td>0</td>\n",
       "    </tr>\n",
       "  </tbody>\n",
       "</table>\n",
       "</div>"
      ],
      "text/plain": [
       "   danceability  energy  key  mode  speechiness  acousticness  \\\n",
       "0         0.485   0.834    9     1       0.0715        0.0665   \n",
       "1         0.691   0.762    2     1       0.0285        0.0808   \n",
       "\n",
       "   instrumentalness  liveness  valence    tempo  duration_ms  loudness  is_hit  \n",
       "0               0.0     0.280    0.659   90.933       211767    -5.413       1  \n",
       "1               0.0     0.134    0.529  116.024       248427    -7.321       0  "
      ]
     },
     "execution_count": 636,
     "metadata": {},
     "output_type": "execute_result"
    }
   ],
   "source": [
    "df.head(2)"
   ]
  },
  {
   "cell_type": "code",
   "execution_count": 637,
   "metadata": {},
   "outputs": [
    {
     "data": {
      "text/html": [
       "<div>\n",
       "<style scoped>\n",
       "    .dataframe tbody tr th:only-of-type {\n",
       "        vertical-align: middle;\n",
       "    }\n",
       "\n",
       "    .dataframe tbody tr th {\n",
       "        vertical-align: top;\n",
       "    }\n",
       "\n",
       "    .dataframe thead th {\n",
       "        text-align: right;\n",
       "    }\n",
       "</style>\n",
       "<table border=\"1\" class=\"dataframe\">\n",
       "  <thead>\n",
       "    <tr style=\"text-align: right;\">\n",
       "      <th></th>\n",
       "      <th>danceability</th>\n",
       "      <th>energy</th>\n",
       "      <th>key</th>\n",
       "      <th>mode</th>\n",
       "      <th>speechiness</th>\n",
       "      <th>acousticness</th>\n",
       "      <th>instrumentalness</th>\n",
       "      <th>liveness</th>\n",
       "      <th>valence</th>\n",
       "      <th>tempo</th>\n",
       "      <th>duration_ms</th>\n",
       "      <th>loudness</th>\n",
       "    </tr>\n",
       "  </thead>\n",
       "  <tbody>\n",
       "    <tr>\n",
       "      <th>0</th>\n",
       "      <td>0.485</td>\n",
       "      <td>0.834</td>\n",
       "      <td>9</td>\n",
       "      <td>1</td>\n",
       "      <td>0.0715</td>\n",
       "      <td>0.0665</td>\n",
       "      <td>0.0</td>\n",
       "      <td>0.280</td>\n",
       "      <td>0.659</td>\n",
       "      <td>90.933</td>\n",
       "      <td>211767</td>\n",
       "      <td>-5.413</td>\n",
       "    </tr>\n",
       "    <tr>\n",
       "      <th>1</th>\n",
       "      <td>0.691</td>\n",
       "      <td>0.762</td>\n",
       "      <td>2</td>\n",
       "      <td>1</td>\n",
       "      <td>0.0285</td>\n",
       "      <td>0.0808</td>\n",
       "      <td>0.0</td>\n",
       "      <td>0.134</td>\n",
       "      <td>0.529</td>\n",
       "      <td>116.024</td>\n",
       "      <td>248427</td>\n",
       "      <td>-7.321</td>\n",
       "    </tr>\n",
       "  </tbody>\n",
       "</table>\n",
       "</div>"
      ],
      "text/plain": [
       "   danceability  energy  key  mode  speechiness  acousticness  \\\n",
       "0         0.485   0.834    9     1       0.0715        0.0665   \n",
       "1         0.691   0.762    2     1       0.0285        0.0808   \n",
       "\n",
       "   instrumentalness  liveness  valence    tempo  duration_ms  loudness  \n",
       "0               0.0     0.280    0.659   90.933       211767    -5.413  \n",
       "1               0.0     0.134    0.529  116.024       248427    -7.321  "
      ]
     },
     "execution_count": 637,
     "metadata": {},
     "output_type": "execute_result"
    }
   ],
   "source": [
    "X=df.drop('is_hit',axis=1)\n",
    "y=df['is_hit']\n",
    "X.head(2)\n"
   ]
  },
  {
   "cell_type": "code",
   "execution_count": 638,
   "metadata": {},
   "outputs": [],
   "source": [
    "from sklearn.model_selection import train_test_split\n",
    "X_train,X_test,y_train,y_test=train_test_split(X,y,test_size = 0.2)\n"
   ]
  },
  {
   "cell_type": "code",
   "execution_count": 639,
   "metadata": {},
   "outputs": [],
   "source": [
    "from sklearn.preprocessing import StandardScaler\n",
    "sc = StandardScaler()\n",
    "X_train = sc.fit_transform(X_train)\n",
    "X_test = sc.transform (X_test)"
   ]
  },
  {
   "cell_type": "code",
   "execution_count": 640,
   "metadata": {},
   "outputs": [
    {
     "data": {
      "text/plain": [
       "array([[ 0.71195042,  0.30240338,  0.19724432, ...,  0.90790739,\n",
       "        -0.0019663 , -0.08212674],\n",
       "       [-1.2431692 ,  0.78459106,  0.19724432, ..., -1.26531321,\n",
       "        -0.19151081,  0.8516924 ],\n",
       "       [-0.17293553,  0.9097744 ,  0.47787688, ..., -0.28337692,\n",
       "        -0.26124904,  1.23645248],\n",
       "       ...,\n",
       "       [ 0.25157057, -0.11951084, -1.48655103, ...,  0.25062629,\n",
       "         0.49757112,  0.1277424 ],\n",
       "       [-0.84257894, -1.78398562, -1.48655103, ..., -1.09270408,\n",
       "        -0.47466084, -0.18533704],\n",
       "       [-0.65723121,  1.0952312 , -0.08338824, ...,  0.68667031,\n",
       "        -0.3606491 ,  0.89898685]])"
      ]
     },
     "execution_count": 640,
     "metadata": {},
     "output_type": "execute_result"
    }
   ],
   "source": [
    "X_train[5:]"
   ]
  },
  {
   "cell_type": "code",
   "execution_count": 641,
   "metadata": {},
   "outputs": [],
   "source": [
    "from sklearn.linear_model import LogisticRegression\n",
    "clf = LogisticRegression(random_state=0).fit(X_train, y_train)\n"
   ]
  },
  {
   "cell_type": "code",
   "execution_count": 642,
   "metadata": {},
   "outputs": [],
   "source": [
    "predictions=clf.predict(X_test)"
   ]
  },
  {
   "cell_type": "code",
   "execution_count": 643,
   "metadata": {},
   "outputs": [
    {
     "data": {
      "text/plain": [
       "0.7660013764624914"
      ]
     },
     "execution_count": 643,
     "metadata": {},
     "output_type": "execute_result"
    }
   ],
   "source": [
    "clf.score(X_test,y_test)"
   ]
  },
  {
   "cell_type": "code",
   "execution_count": 644,
   "metadata": {},
   "outputs": [
    {
     "name": "stdout",
     "output_type": "stream",
     "text": [
      "[[ 500  522]\n",
      " [ 158 1726]]\n"
     ]
    }
   ],
   "source": [
    "from sklearn import metrics\n",
    "cm = metrics.confusion_matrix(y_test, predictions)\n",
    "print(cm)"
   ]
  },
  {
   "cell_type": "markdown",
   "metadata": {},
   "source": [
    "## Feature Selection"
   ]
  },
  {
   "cell_type": "code",
   "execution_count": 645,
   "metadata": {},
   "outputs": [],
   "source": [
    "from sklearn.feature_selection import SelectFromModel\n",
    "from sklearn.linear_model import Lasso\n",
    "\n"
   ]
  },
  {
   "cell_type": "code",
   "execution_count": 646,
   "metadata": {},
   "outputs": [
    {
     "name": "stdout",
     "output_type": "stream",
     "text": [
      "Best alpha:0.0005\n",
      "0.26050653105715504\n"
     ]
    }
   ],
   "source": [
    "from sklearn.model_selection import GridSearchCV\n",
    "alphas = np.array([5, 0.5, 0.05, 0.005, 0.0005, 1, 0.1, 0.01,0.001, 0.0001, 0 ])\n",
    "model = Lasso(random_state=0)\n",
    "grid = GridSearchCV(estimator=model, param_grid=dict(alpha=alphas))\n",
    "grid.fit(X_train, y_train)\n",
    "\n",
    "print('Best alpha:{}'.format(grid.best_estimator_.alpha))\n",
    "print(grid.best_score_)"
   ]
  },
  {
   "cell_type": "code",
   "execution_count": 647,
   "metadata": {},
   "outputs": [],
   "source": [
    "sel=Lasso(alpha=0.001).fit(X_train,y_train)"
   ]
  },
  {
   "cell_type": "code",
   "execution_count": 648,
   "metadata": {},
   "outputs": [
    {
     "data": {
      "text/plain": [
       "array([ 0.09980832, -0.02683415, -0.        , -0.        , -0.0165189 ,\n",
       "       -0.08770794, -0.12961363, -0.03301565, -0.07613439,  0.01006181,\n",
       "        0.01332451,  0.08487385])"
      ]
     },
     "execution_count": 648,
     "metadata": {},
     "output_type": "execute_result"
    }
   ],
   "source": [
    "sel.coef_"
   ]
  },
  {
   "cell_type": "code",
   "execution_count": 649,
   "metadata": {},
   "outputs": [],
   "source": [
    "from sklearn.tree import DecisionTreeClassifier"
   ]
  },
  {
   "cell_type": "code",
   "execution_count": 650,
   "metadata": {},
   "outputs": [
    {
     "name": "stdout",
     "output_type": "stream",
     "text": [
      "feat importance = [0.04341323 0.02708688 0.01429292 0.00230033 0.02287339 0.06801419\n",
      " 0.09261129 0.03246724 0.03887848 0.03042227 0.05553961 0.03749556]\n"
     ]
    }
   ],
   "source": [
    "clf2 = DecisionTreeClassifier()\n",
    "clf2.fit(X_train, y_train)\n",
    "\n",
    "feat_importance = clf2.tree_.compute_feature_importances(normalize=False)\n",
    "print(\"feat importance = \" + str(feat_importance))\n"
   ]
  },
  {
   "cell_type": "code",
   "execution_count": 651,
   "metadata": {},
   "outputs": [
    {
     "data": {
      "text/plain": [
       "instrumentalness    0.092611\n",
       "acousticness        0.068014\n",
       "duration_ms         0.055540\n",
       "danceability        0.043413\n",
       "valence             0.038878\n",
       "loudness            0.037496\n",
       "liveness            0.032467\n",
       "tempo               0.030422\n",
       "energy              0.027087\n",
       "speechiness         0.022873\n",
       "key                 0.014293\n",
       "mode                0.002300\n",
       "dtype: float64"
      ]
     },
     "execution_count": 651,
     "metadata": {},
     "output_type": "execute_result"
    }
   ],
   "source": [
    "fea=pd.Series(data=feat_importance,index=X.columns)\n",
    "fea.sort_values(ascending=False)"
   ]
  },
  {
   "cell_type": "code",
   "execution_count": 652,
   "metadata": {},
   "outputs": [
    {
     "data": {
      "text/plain": [
       "Index(['danceability', 'energy', 'key', 'mode', 'speechiness', 'acousticness',\n",
       "       'instrumentalness', 'liveness', 'valence', 'tempo', 'duration_ms',\n",
       "       'loudness'],\n",
       "      dtype='object')"
      ]
     },
     "execution_count": 652,
     "metadata": {},
     "output_type": "execute_result"
    }
   ],
   "source": [
    "fea.index"
   ]
  },
  {
   "cell_type": "markdown",
   "metadata": {},
   "source": [
    "#### From this we get to know tha key and mode column doesn't have significant impact in prediction."
   ]
  },
  {
   "cell_type": "code",
   "execution_count": 653,
   "metadata": {},
   "outputs": [
    {
     "data": {
      "text/html": [
       "<div>\n",
       "<style scoped>\n",
       "    .dataframe tbody tr th:only-of-type {\n",
       "        vertical-align: middle;\n",
       "    }\n",
       "\n",
       "    .dataframe tbody tr th {\n",
       "        vertical-align: top;\n",
       "    }\n",
       "\n",
       "    .dataframe thead th {\n",
       "        text-align: right;\n",
       "    }\n",
       "</style>\n",
       "<table border=\"1\" class=\"dataframe\">\n",
       "  <thead>\n",
       "    <tr style=\"text-align: right;\">\n",
       "      <th></th>\n",
       "      <th>danceability</th>\n",
       "      <th>energy</th>\n",
       "      <th>speechiness</th>\n",
       "      <th>acousticness</th>\n",
       "      <th>instrumentalness</th>\n",
       "      <th>liveness</th>\n",
       "      <th>valence</th>\n",
       "      <th>tempo</th>\n",
       "      <th>duration_ms</th>\n",
       "      <th>loudness</th>\n",
       "    </tr>\n",
       "  </thead>\n",
       "  <tbody>\n",
       "    <tr>\n",
       "      <th>0</th>\n",
       "      <td>0.485</td>\n",
       "      <td>0.834</td>\n",
       "      <td>0.0715</td>\n",
       "      <td>0.0665</td>\n",
       "      <td>0.0</td>\n",
       "      <td>0.280</td>\n",
       "      <td>0.659</td>\n",
       "      <td>90.933</td>\n",
       "      <td>211767</td>\n",
       "      <td>-5.413</td>\n",
       "    </tr>\n",
       "    <tr>\n",
       "      <th>1</th>\n",
       "      <td>0.691</td>\n",
       "      <td>0.762</td>\n",
       "      <td>0.0285</td>\n",
       "      <td>0.0808</td>\n",
       "      <td>0.0</td>\n",
       "      <td>0.134</td>\n",
       "      <td>0.529</td>\n",
       "      <td>116.024</td>\n",
       "      <td>248427</td>\n",
       "      <td>-7.321</td>\n",
       "    </tr>\n",
       "  </tbody>\n",
       "</table>\n",
       "</div>"
      ],
      "text/plain": [
       "   danceability  energy  speechiness  acousticness  instrumentalness  \\\n",
       "0         0.485   0.834       0.0715        0.0665               0.0   \n",
       "1         0.691   0.762       0.0285        0.0808               0.0   \n",
       "\n",
       "   liveness  valence    tempo  duration_ms  loudness  \n",
       "0     0.280    0.659   90.933       211767    -5.413  \n",
       "1     0.134    0.529  116.024       248427    -7.321  "
      ]
     },
     "execution_count": 653,
     "metadata": {},
     "output_type": "execute_result"
    }
   ],
   "source": [
    "#Dropping key and mode column \n",
    "X1=df.drop(['is_hit','key','mode'],axis=1)\n",
    "y1=df['is_hit']\n",
    "X1.head(2)"
   ]
  },
  {
   "cell_type": "code",
   "execution_count": 654,
   "metadata": {},
   "outputs": [],
   "source": [
    "from sklearn.model_selection import train_test_split\n",
    "X1_train,X1_test,y1_train,y1_test=train_test_split(X1,y1,test_size = 0.2)"
   ]
  },
  {
   "cell_type": "code",
   "execution_count": 655,
   "metadata": {},
   "outputs": [],
   "source": [
    "from sklearn.preprocessing import StandardScaler\n",
    "sc = StandardScaler()\n",
    "X1_train = sc.fit_transform(X1_train)\n",
    "X1_test = sc.transform (X1_test)"
   ]
  },
  {
   "cell_type": "code",
   "execution_count": 656,
   "metadata": {},
   "outputs": [],
   "source": [
    "from sklearn.linear_model import LogisticRegression\n",
    "clf1 = LogisticRegression(random_state=0).fit(X1_train, y1_train)"
   ]
  },
  {
   "cell_type": "code",
   "execution_count": 657,
   "metadata": {},
   "outputs": [],
   "source": [
    "predictions1=clf1.predict(X1_test)"
   ]
  },
  {
   "cell_type": "code",
   "execution_count": 658,
   "metadata": {},
   "outputs": [],
   "source": [
    "predictions_proba1=clf1.predict_proba(X1_test)[:,1]"
   ]
  },
  {
   "cell_type": "code",
   "execution_count": 659,
   "metadata": {},
   "outputs": [
    {
     "data": {
      "text/plain": [
       "0.7656572608396421"
      ]
     },
     "execution_count": 659,
     "metadata": {},
     "output_type": "execute_result"
    }
   ],
   "source": [
    "clf1.score(X1_test,y1_test)"
   ]
  },
  {
   "cell_type": "code",
   "execution_count": 660,
   "metadata": {},
   "outputs": [
    {
     "data": {
      "text/plain": [
       "0.7656572608396421"
      ]
     },
     "execution_count": 660,
     "metadata": {},
     "output_type": "execute_result"
    }
   ],
   "source": [
    "as7 = accuracy_score(y1_test,predictions1)\n",
    "as7"
   ]
  },
  {
   "cell_type": "code",
   "execution_count": 661,
   "metadata": {},
   "outputs": [
    {
     "data": {
      "text/plain": [
       "0.791246244892439"
      ]
     },
     "execution_count": 661,
     "metadata": {},
     "output_type": "execute_result"
    }
   ],
   "source": [
    "rs7 = roc_auc_score(y1_test,predictions_proba1)\n",
    "rs7"
   ]
  },
  {
   "cell_type": "markdown",
   "metadata": {},
   "source": [
    "## Hyperparameter tuning"
   ]
  },
  {
   "cell_type": "code",
   "execution_count": 662,
   "metadata": {},
   "outputs": [
    {
     "name": "stdout",
     "output_type": "stream",
     "text": [
      "Best: 0.774116 using {'C': 0.1, 'solver': 'newton-cg'}\n",
      "0.773916 (0.013009) with: {'C': 100, 'solver': 'newton-cg'}\n",
      "0.773944 (0.012995) with: {'C': 100, 'solver': 'lbfgs'}\n",
      "0.773944 (0.012996) with: {'C': 100, 'solver': 'liblinear'}\n",
      "0.773887 (0.012976) with: {'C': 10, 'solver': 'newton-cg'}\n",
      "0.773887 (0.012976) with: {'C': 10, 'solver': 'lbfgs'}\n",
      "0.773916 (0.013009) with: {'C': 10, 'solver': 'liblinear'}\n",
      "0.773801 (0.012830) with: {'C': 1.0, 'solver': 'newton-cg'}\n",
      "0.773801 (0.012830) with: {'C': 1.0, 'solver': 'lbfgs'}\n",
      "0.773887 (0.012871) with: {'C': 1.0, 'solver': 'liblinear'}\n",
      "0.774116 (0.012664) with: {'C': 0.1, 'solver': 'newton-cg'}\n",
      "0.774116 (0.012664) with: {'C': 0.1, 'solver': 'lbfgs'}\n",
      "0.773887 (0.012807) with: {'C': 0.1, 'solver': 'liblinear'}\n",
      "0.772912 (0.012473) with: {'C': 0.01, 'solver': 'newton-cg'}\n",
      "0.772912 (0.012473) with: {'C': 0.01, 'solver': 'lbfgs'}\n",
      "0.773256 (0.012637) with: {'C': 0.01, 'solver': 'liblinear'}\n"
     ]
    }
   ],
   "source": [
    "\n",
    "# grid searching key hyperparametres for logistic regression\n",
    "from sklearn.datasets import make_blobs\n",
    "from sklearn.model_selection import RepeatedStratifiedKFold\n",
    "from sklearn.model_selection import GridSearchCV\n",
    "from sklearn.linear_model import LogisticRegression\n",
    "\n",
    "# define models and parameters\n",
    "model = LogisticRegression()\n",
    "solvers = ['newton-cg', 'lbfgs', 'liblinear']\n",
    "c_values = [100, 10, 1.0, 0.1, 0.01]\n",
    "# define grid search\n",
    "grid = dict(solver=solvers,C=c_values)\n",
    "cv = RepeatedStratifiedKFold(n_splits=10, n_repeats=3, random_state=1)\n",
    "grid_search = GridSearchCV(estimator=model, param_grid=grid, n_jobs=-1, cv=cv, scoring='accuracy',error_score=0)\n",
    "grid_result = grid_search.fit(X1_train, y1_train)\n",
    "# summarize results\n",
    "print(\"Best: %f using %s\" % (grid_result.best_score_, grid_result.best_params_))\n",
    "means = grid_result.cv_results_['mean_test_score']\n",
    "stds = grid_result.cv_results_['std_test_score']\n",
    "params = grid_result.cv_results_['params']\n",
    "for mean, stdev, param in zip(means, stds, params):\n",
    "    print(\"%f (%f) with: %r\" % (mean, stdev, param))\n"
   ]
  },
  {
   "cell_type": "code",
   "execution_count": 663,
   "metadata": {},
   "outputs": [
    {
     "data": {
      "text/plain": [
       "{'C': 0.1, 'solver': 'newton-cg'}"
      ]
     },
     "execution_count": 663,
     "metadata": {},
     "output_type": "execute_result"
    }
   ],
   "source": [
    "grid_result.best_params_"
   ]
  },
  {
   "cell_type": "code",
   "execution_count": 664,
   "metadata": {},
   "outputs": [],
   "source": [
    "from sklearn.linear_model import LogisticRegression\n",
    "clf1 = LogisticRegression(C=1,solver='newton-cg',random_state=0).fit(X1_train, y1_train)\n",
    "predictions1=clf1.predict(X1_test)"
   ]
  },
  {
   "cell_type": "code",
   "execution_count": 665,
   "metadata": {},
   "outputs": [],
   "source": [
    "predictions_proba1=clf1.predict_proba(X1_test)[:,1]"
   ]
  },
  {
   "cell_type": "code",
   "execution_count": 666,
   "metadata": {},
   "outputs": [
    {
     "data": {
      "text/plain": [
       "0.7656572608396421"
      ]
     },
     "execution_count": 666,
     "metadata": {},
     "output_type": "execute_result"
    }
   ],
   "source": [
    "clf1.score(X1_test,y1_test)"
   ]
  },
  {
   "cell_type": "code",
   "execution_count": 667,
   "metadata": {},
   "outputs": [
    {
     "data": {
      "text/plain": [
       "0.7656572608396421"
      ]
     },
     "execution_count": 667,
     "metadata": {},
     "output_type": "execute_result"
    }
   ],
   "source": [
    "as8 = accuracy_score(y1_test,predictions1)\n",
    "as8"
   ]
  },
  {
   "cell_type": "code",
   "execution_count": 668,
   "metadata": {},
   "outputs": [
    {
     "data": {
      "text/plain": [
       "0.7912472694784038"
      ]
     },
     "execution_count": 668,
     "metadata": {},
     "output_type": "execute_result"
    }
   ],
   "source": [
    "rs8 = roc_auc_score(y1_test,predictions_proba1)\n",
    "rs8"
   ]
  },
  {
   "cell_type": "markdown",
   "metadata": {},
   "source": [
    "#### Identifying the Best Model"
   ]
  },
  {
   "cell_type": "code",
   "execution_count": 669,
   "metadata": {},
   "outputs": [],
   "source": [
    "model_name =['LDA_full_model','QDA_full_model','LDA_part_model','QDA_part_model','LR_full_model','LR_part_model_perm_import_feat_sel','LR_part_model_DT_based_feat_sel','LR_part_model_DT_based_feat_sel_with_HPT']\n",
    "model_accuracy = [round(as1,2),round(as2,2),round(as3,2),round(as4,2),round(as5,2),round(as6,2),round(as7,2),round(as8,2)]\n",
    "model_roc_auc_score = [rs1,rs2,rs3,rs4,rs5,rs6,rs7,rs8]"
   ]
  },
  {
   "cell_type": "code",
   "execution_count": 670,
   "metadata": {},
   "outputs": [
    {
     "data": {
      "text/plain": [
       "[0.77, 0.78, 0.76, 0.78, 0.77, 0.77, 0.77, 0.77]"
      ]
     },
     "execution_count": 670,
     "metadata": {},
     "output_type": "execute_result"
    }
   ],
   "source": [
    "model_accuracy"
   ]
  },
  {
   "cell_type": "code",
   "execution_count": 671,
   "metadata": {},
   "outputs": [
    {
     "data": {
      "text/plain": [
       "[0.7925243424423121,\n",
       " 0.8074160127522698,\n",
       " 0.783975003267694,\n",
       " 0.8088755827387633,\n",
       " 0.7962198414379655,\n",
       " 0.795589589652753,\n",
       " 0.791246244892439,\n",
       " 0.7912472694784038]"
      ]
     },
     "execution_count": 671,
     "metadata": {},
     "output_type": "execute_result"
    }
   ],
   "source": [
    "model_roc_auc_score"
   ]
  },
  {
   "cell_type": "markdown",
   "metadata": {},
   "source": [
    "##### Plotting model performance metrics"
   ]
  },
  {
   "cell_type": "code",
   "execution_count": 672,
   "metadata": {},
   "outputs": [
    {
     "data": {
      "image/png": "[encoded data removed]",
      "text/plain": [
       "<Figure size 1080x576 with 1 Axes>"
      ]
     },
     "metadata": {
      "needs_background": "light"
     },
     "output_type": "display_data"
    }
   ],
   "source": [
    "plt.figure(figsize=(15,8))\n",
    "sns.lineplot(x=model_name,y=model_accuracy,label='accuracy_score')\n",
    "# sns.lineplot(x=model_name,y=model_roc_auc_score,label='roc_auc')\n",
    "plt.ylabel('accuracy score / roc_auc score ')\n",
    "plt.xlabel('model name')\n",
    "plt.xticks(rotation=90)\n",
    "plt.grid()\n",
    "plt.show()\n"
   ]
  },
  {
   "cell_type": "code",
   "execution_count": 673,
   "metadata": {},
   "outputs": [],
   "source": [
    "# Taking QDA as our best model\n",
    "# Features: instrumentalness\tacousticness\tloudness\tenergy\tduration_ms\tvalence\tdanceability\tliveness"
   ]
  },
  {
   "cell_type": "code",
   "execution_count": null,
   "metadata": {},
   "outputs": [],
   "source": []
  },
  {
   "cell_type": "code",
   "execution_count": 498,
   "metadata": {},
   "outputs": [],
   "source": [
    "import pickle\n",
    "# now you can save it to a file\n",
    "file = './Model/ML_Model1.pkl'\n",
    "with open(file, 'wb') as f:\n",
    "    pickle.dump(qda, f)"
   ]
  },
  {
   "cell_type": "code",
   "execution_count": 500,
   "metadata": {},
   "outputs": [],
   "source": [
    "#test"
   ]
  },
  {
   "cell_type": "code",
   "execution_count": 501,
   "metadata": {},
   "outputs": [],
   "source": [
    "with open(file, 'rb') as f:\n",
    "    k = pickle.load(f)"
   ]
  },
  {
   "cell_type": "code",
   "execution_count": 674,
   "metadata": {},
   "outputs": [],
   "source": [
    "test_data = [0.000054,0.002344,-8.897,0.3455,566667,0.6756,0.765,0.2755]"
   ]
  },
  {
   "cell_type": "code",
   "execution_count": 676,
   "metadata": {},
   "outputs": [],
   "source": [
    "predictions  = k.predict([test_data])"
   ]
  },
  {
   "cell_type": "code",
   "execution_count": 677,
   "metadata": {},
   "outputs": [
    {
     "data": {
      "text/plain": [
       "array([0], dtype=int64)"
      ]
     },
     "execution_count": 677,
     "metadata": {},
     "output_type": "execute_result"
    }
   ],
   "source": [
    "predictions"
   ]
  }
 ],
 "metadata": {
  "kernelspec": {
   "display_name": "Python 3",
   "language": "python",
   "name": "python3"
  },
  "language_info": {
   "codemirror_mode": {
    "name": "ipython",
    "version": 3
   },
   "file_extension": ".py",
   "mimetype": "text/x-python",
   "name": "python",
   "nbconvert_exporter": "python",
   "pygments_lexer": "ipython3",
   "version": "3.8.5"
  }
 },
 "nbformat": 4,
 "nbformat_minor": 4
}
